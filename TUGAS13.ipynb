{
  "nbformat": 4,
  "nbformat_minor": 0,
  "metadata": {
    "colab": {
      "name": "TUGAS13.ipynb",
      "provenance": [],
      "toc_visible": true,
      "mount_file_id": "1fGbHQaEInyO9k79tKqGmaVJAIpPHMAWR",
      "authorship_tag": "ABX9TyMM1m9OPQa7t4FTApk85nIX",
      "include_colab_link": true
    },
    "kernelspec": {
      "name": "python3",
      "display_name": "Python 3"
    }
  },
  "cells": [
    {
      "cell_type": "markdown",
      "metadata": {
        "id": "view-in-github",
        "colab_type": "text"
      },
      "source": [
        "<a href=\"https://colab.research.google.com/github/olyvias/python/blob/main/TUGAS13.ipynb\" target=\"_parent\"><img src=\"https://colab.research.google.com/assets/colab-badge.svg\" alt=\"Open In Colab\"/></a>"
      ]
    },
    {
      "cell_type": "markdown",
      "metadata": {
        "id": "FQC_AUmtBbmk"
      },
      "source": [
        "# Numpy dan Matplotlib (Path Loss Simulation)\n",
        "## OLYVIA FERNANDA SOEDRADJAT / 1101208479 / TTX-44-01"
      ]
    },
    {
      "cell_type": "code",
      "metadata": {
        "id": "_a_N7F-JBnG8"
      },
      "source": [
        "import numpy as np\n",
        "import matplotlib.pyplot as plt\n"
      ],
      "execution_count": 1,
      "outputs": []
    },
    {
      "cell_type": "code",
      "metadata": {
        "colab": {
          "base_uri": "https://localhost:8080/"
        },
        "id": "p2IhgozVHEBy",
        "outputId": "daa7a404-9fc2-491a-eb9f-c4b669ac372c"
      },
      "source": [
        "np.zeros(4)"
      ],
      "execution_count": 2,
      "outputs": [
        {
          "output_type": "execute_result",
          "data": {
            "text/plain": [
              "array([0., 0., 0., 0.])"
            ]
          },
          "metadata": {
            "tags": []
          },
          "execution_count": 2
        }
      ]
    },
    {
      "cell_type": "code",
      "metadata": {
        "colab": {
          "base_uri": "https://localhost:8080/"
        },
        "id": "QtGgWIULHOzi",
        "outputId": "e1037845-138e-4897-b8c1-f1ee2e16f7c9"
      },
      "source": [
        "np.ones(3)"
      ],
      "execution_count": 3,
      "outputs": [
        {
          "output_type": "execute_result",
          "data": {
            "text/plain": [
              "array([1., 1., 1.])"
            ]
          },
          "metadata": {
            "tags": []
          },
          "execution_count": 3
        }
      ]
    },
    {
      "cell_type": "markdown",
      "metadata": {
        "id": "lwGp9q-HHiEb"
      },
      "source": [
        "**(Baris,Kolom)**"
      ]
    },
    {
      "cell_type": "code",
      "metadata": {
        "colab": {
          "base_uri": "https://localhost:8080/"
        },
        "id": "fSMPTFUeHXeT",
        "outputId": "a1adb84d-aa9e-4ea8-abf7-5212c05dee62"
      },
      "source": [
        "np.zeros((3,4))"
      ],
      "execution_count": 4,
      "outputs": [
        {
          "output_type": "execute_result",
          "data": {
            "text/plain": [
              "array([[0., 0., 0., 0.],\n",
              "       [0., 0., 0., 0.],\n",
              "       [0., 0., 0., 0.]])"
            ]
          },
          "metadata": {
            "tags": []
          },
          "execution_count": 4
        }
      ]
    },
    {
      "cell_type": "code",
      "metadata": {
        "colab": {
          "base_uri": "https://localhost:8080/"
        },
        "id": "fe_utTgWHge9",
        "outputId": "b4f2cb2c-8990-4c30-fdf7-321ad3099ce9"
      },
      "source": [
        "np.ones((5,2))"
      ],
      "execution_count": 5,
      "outputs": [
        {
          "output_type": "execute_result",
          "data": {
            "text/plain": [
              "array([[1., 1.],\n",
              "       [1., 1.],\n",
              "       [1., 1.],\n",
              "       [1., 1.],\n",
              "       [1., 1.]])"
            ]
          },
          "metadata": {
            "tags": []
          },
          "execution_count": 5
        }
      ]
    },
    {
      "cell_type": "code",
      "metadata": {
        "colab": {
          "base_uri": "https://localhost:8080/"
        },
        "id": "w7tGab0KHpON",
        "outputId": "d6f25dca-c4ec-450a-a5d8-81b50534e5de"
      },
      "source": [
        "np.arange(10)"
      ],
      "execution_count": 6,
      "outputs": [
        {
          "output_type": "execute_result",
          "data": {
            "text/plain": [
              "array([0, 1, 2, 3, 4, 5, 6, 7, 8, 9])"
            ]
          },
          "metadata": {
            "tags": []
          },
          "execution_count": 6
        }
      ]
    },
    {
      "cell_type": "code",
      "metadata": {
        "colab": {
          "base_uri": "https://localhost:8080/"
        },
        "id": "KWuV08zbHyNX",
        "outputId": "ed347b6d-e7a4-414a-d748-c626c55d5410"
      },
      "source": [
        "np.arange(2,10)"
      ],
      "execution_count": 7,
      "outputs": [
        {
          "output_type": "execute_result",
          "data": {
            "text/plain": [
              "array([2, 3, 4, 5, 6, 7, 8, 9])"
            ]
          },
          "metadata": {
            "tags": []
          },
          "execution_count": 7
        }
      ]
    },
    {
      "cell_type": "code",
      "metadata": {
        "colab": {
          "base_uri": "https://localhost:8080/"
        },
        "id": "Ohl_udXnH-Oz",
        "outputId": "fac7d9eb-a50a-48f1-ac64-48219c0b157a"
      },
      "source": [
        "np.arange(3,47,4)"
      ],
      "execution_count": 8,
      "outputs": [
        {
          "output_type": "execute_result",
          "data": {
            "text/plain": [
              "array([ 3,  7, 11, 15, 19, 23, 27, 31, 35, 39, 43])"
            ]
          },
          "metadata": {
            "tags": []
          },
          "execution_count": 8
        }
      ]
    },
    {
      "cell_type": "code",
      "metadata": {
        "id": "OQ72u2w4INT5"
      },
      "source": [
        ""
      ],
      "execution_count": 8,
      "outputs": []
    },
    {
      "cell_type": "markdown",
      "metadata": {
        "id": "IdF4bg_jITm-"
      },
      "source": [
        "Arange = (Awal,Akhir,delta)"
      ]
    },
    {
      "cell_type": "code",
      "metadata": {
        "colab": {
          "base_uri": "https://localhost:8080/"
        },
        "id": "W5CxZ4mpIaFx",
        "outputId": "f793b366-4ab2-4e54-ca51-4e73df227fde"
      },
      "source": [
        "np.arange(4,5,0.1)"
      ],
      "execution_count": 9,
      "outputs": [
        {
          "output_type": "execute_result",
          "data": {
            "text/plain": [
              "array([4. , 4.1, 4.2, 4.3, 4.4, 4.5, 4.6, 4.7, 4.8, 4.9])"
            ]
          },
          "metadata": {
            "tags": []
          },
          "execution_count": 9
        }
      ]
    },
    {
      "cell_type": "code",
      "metadata": {
        "colab": {
          "base_uri": "https://localhost:8080/"
        },
        "id": "bTgHkXmUIg7L",
        "outputId": "f7773c9c-84d0-4486-c1bf-1cc9bae73d4a"
      },
      "source": [
        "np.arange(2,-4,-0.5)"
      ],
      "execution_count": 10,
      "outputs": [
        {
          "output_type": "execute_result",
          "data": {
            "text/plain": [
              "array([ 2. ,  1.5,  1. ,  0.5,  0. , -0.5, -1. , -1.5, -2. , -2.5, -3. ,\n",
              "       -3.5])"
            ]
          },
          "metadata": {
            "tags": []
          },
          "execution_count": 10
        }
      ]
    },
    {
      "cell_type": "code",
      "metadata": {
        "colab": {
          "base_uri": "https://localhost:8080/"
        },
        "id": "nktsy1fkI54z",
        "outputId": "cdee48dd-eff3-4ef8-e442-5c8544db0530"
      },
      "source": [
        "np.linspace(2,10,4)"
      ],
      "execution_count": 11,
      "outputs": [
        {
          "output_type": "execute_result",
          "data": {
            "text/plain": [
              "array([ 2.        ,  4.66666667,  7.33333333, 10.        ])"
            ]
          },
          "metadata": {
            "tags": []
          },
          "execution_count": 11
        }
      ]
    },
    {
      "cell_type": "code",
      "metadata": {
        "colab": {
          "base_uri": "https://localhost:8080/"
        },
        "id": "NSyeDR0FJc3X",
        "outputId": "39f6bc45-f66c-490a-aa50-a6cbff329d5a"
      },
      "source": [
        "np.linspace(2,-4,4)"
      ],
      "execution_count": 12,
      "outputs": [
        {
          "output_type": "execute_result",
          "data": {
            "text/plain": [
              "array([ 2.,  0., -2., -4.])"
            ]
          },
          "metadata": {
            "tags": []
          },
          "execution_count": 12
        }
      ]
    },
    {
      "cell_type": "code",
      "metadata": {
        "id": "WGdTFhoiJppN"
      },
      "source": [
        "e=np.arange(0,20,2)"
      ],
      "execution_count": 13,
      "outputs": []
    },
    {
      "cell_type": "code",
      "metadata": {
        "colab": {
          "base_uri": "https://localhost:8080/"
        },
        "id": "CGf98_AHKD9M",
        "outputId": "883a5716-618a-4ba5-86cd-dd98d16b1eeb"
      },
      "source": [
        "len(e)"
      ],
      "execution_count": 14,
      "outputs": [
        {
          "output_type": "execute_result",
          "data": {
            "text/plain": [
              "10"
            ]
          },
          "metadata": {
            "tags": []
          },
          "execution_count": 14
        }
      ]
    },
    {
      "cell_type": "code",
      "metadata": {
        "colab": {
          "base_uri": "https://localhost:8080/"
        },
        "id": "TrQRn9faKFeo",
        "outputId": "4928543b-3c92-42be-a8ea-4d5a879360b6"
      },
      "source": [
        "e.reshape(5,2)"
      ],
      "execution_count": 15,
      "outputs": [
        {
          "output_type": "execute_result",
          "data": {
            "text/plain": [
              "array([[ 0,  2],\n",
              "       [ 4,  6],\n",
              "       [ 8, 10],\n",
              "       [12, 14],\n",
              "       [16, 18]])"
            ]
          },
          "metadata": {
            "tags": []
          },
          "execution_count": 15
        }
      ]
    },
    {
      "cell_type": "code",
      "metadata": {
        "colab": {
          "base_uri": "https://localhost:8080/"
        },
        "id": "-SQXnZkeKJxM",
        "outputId": "0d36f977-2119-44e0-af65-bf9918d78fb2"
      },
      "source": [
        "e.reshape(2,5)"
      ],
      "execution_count": 16,
      "outputs": [
        {
          "output_type": "execute_result",
          "data": {
            "text/plain": [
              "array([[ 0,  2,  4,  6,  8],\n",
              "       [10, 12, 14, 16, 18]])"
            ]
          },
          "metadata": {
            "tags": []
          },
          "execution_count": 16
        }
      ]
    },
    {
      "cell_type": "code",
      "metadata": {
        "colab": {
          "base_uri": "https://localhost:8080/"
        },
        "id": "cfxPx2XhKM2a",
        "outputId": "8b9b933a-cd08-48fa-c75a-d9641413ed7b"
      },
      "source": [
        "print(e)"
      ],
      "execution_count": 17,
      "outputs": [
        {
          "output_type": "stream",
          "text": [
            "[ 0  2  4  6  8 10 12 14 16 18]\n"
          ],
          "name": "stdout"
        }
      ]
    },
    {
      "cell_type": "code",
      "metadata": {
        "id": "HmwbQ4d7KP-5"
      },
      "source": [
        "f=e.reshape(5,2)"
      ],
      "execution_count": 18,
      "outputs": []
    },
    {
      "cell_type": "code",
      "metadata": {
        "colab": {
          "base_uri": "https://localhost:8080/"
        },
        "id": "InZvEqHrKoPy",
        "outputId": "464af73c-3ec3-4b08-9c4c-89df52048cdd"
      },
      "source": [
        "print(f)"
      ],
      "execution_count": 19,
      "outputs": [
        {
          "output_type": "stream",
          "text": [
            "[[ 0  2]\n",
            " [ 4  6]\n",
            " [ 8 10]\n",
            " [12 14]\n",
            " [16 18]]\n"
          ],
          "name": "stdout"
        }
      ]
    },
    {
      "cell_type": "code",
      "metadata": {
        "colab": {
          "base_uri": "https://localhost:8080/"
        },
        "id": "Od42_rDpMhUQ",
        "outputId": "f862a74e-30a7-4e0c-b2af-de487860113a"
      },
      "source": [
        "np.random.random((3,4))"
      ],
      "execution_count": 20,
      "outputs": [
        {
          "output_type": "execute_result",
          "data": {
            "text/plain": [
              "array([[0.46110813, 0.72089274, 0.75213907, 0.43310303],\n",
              "       [0.09867759, 0.03754385, 0.93488348, 0.24045942],\n",
              "       [0.26883293, 0.69625798, 0.33791304, 0.72941741]])"
            ]
          },
          "metadata": {
            "tags": []
          },
          "execution_count": 20
        }
      ]
    },
    {
      "cell_type": "code",
      "metadata": {
        "colab": {
          "base_uri": "https://localhost:8080/"
        },
        "id": "Qdktkp3dMmRV",
        "outputId": "397d1904-ac3d-4700-8c87-1c629b76004f"
      },
      "source": [
        "np.random.randint(1,20,10)"
      ],
      "execution_count": 21,
      "outputs": [
        {
          "output_type": "execute_result",
          "data": {
            "text/plain": [
              "array([ 3, 18, 18,  9,  4, 11,  1,  6, 10, 19])"
            ]
          },
          "metadata": {
            "tags": []
          },
          "execution_count": 21
        }
      ]
    },
    {
      "cell_type": "code",
      "metadata": {
        "colab": {
          "base_uri": "https://localhost:8080/"
        },
        "id": "E4nPQ-KJNBSQ",
        "outputId": "4107bcff-a7ec-4b2d-929d-4eabda2d8458"
      },
      "source": [
        "np.random.randn(3)"
      ],
      "execution_count": 22,
      "outputs": [
        {
          "output_type": "execute_result",
          "data": {
            "text/plain": [
              "array([ 0.14600828, -0.52375701, -0.54932407])"
            ]
          },
          "metadata": {
            "tags": []
          },
          "execution_count": 22
        }
      ]
    },
    {
      "cell_type": "code",
      "metadata": {
        "id": "Fk3jszUyNdxZ"
      },
      "source": [
        ""
      ],
      "execution_count": 22,
      "outputs": []
    },
    {
      "cell_type": "markdown",
      "metadata": {
        "id": "nAL9h3AneiD4"
      },
      "source": [
        "# **Grafik Frekuensi 1800MHz pada Daerah Urban, Open, dan Sub Urban**"
      ]
    },
    {
      "cell_type": "code",
      "metadata": {
        "id": "7bOjuB7ke9Os"
      },
      "source": [
        "def cos(frek,tipe,ht,hr,d):\r\n",
        "    if frek in range(150,1501):\r\n",
        "        Ca=69.55\r\n",
        "        Cb=26.16\r\n",
        "    elif frek in range(1501,2001):\r\n",
        "        Ca=46.3\r\n",
        "        Cb=33.9\r\n",
        "    \r\n",
        "    if tipe=='urban' :\r\n",
        "        Cm=0\r\n",
        "    elif tipe=='suburban' :\r\n",
        "        Cm= -2*((np.log10((frek/28)**2))-5.4)\r\n",
        "    elif tipe=='open' :\r\n",
        "        Cm= -4.78*(np.log10(frek))+18.33*(np.log10(frek))-40.94\r\n",
        "    else :\r\n",
        "        Cm='tipe salah'\r\n",
        "    \r\n",
        "    ahr = (1.1*np.log10(frek)-0.7)*hr-(1.56*np.log10(frek)-1.8)\r\n",
        "    Lp = Ca+(Cb*np.log10(frek))-(13.83*np.log(ht))-ahr+((44.9-6.55*np.log10(ht))*np.log10(d))-Cm\r\n",
        "    \r\n",
        "    return Lp"
      ],
      "execution_count": 23,
      "outputs": []
    },
    {
      "cell_type": "code",
      "metadata": {
        "id": "nezVGk5OfBn_"
      },
      "source": [
        "f=1800 #MHz\r\n",
        "loc1='urban'\r\n",
        "loc2='open'\r\n",
        "loc3='suburban'\r\n",
        "tower=80 #m\r\n",
        "user=1.5 #m\r\n",
        "dmin=200 #m\r\n",
        "dmax=700 #m\r\n",
        "N=200 #titik\r\n",
        "d=np.random.randint(dmin,dmax,N)"
      ],
      "execution_count": 24,
      "outputs": []
    },
    {
      "cell_type": "code",
      "metadata": {
        "colab": {
          "base_uri": "https://localhost:8080/"
        },
        "id": "5_O5uC7GfRkX",
        "outputId": "80f3fb5e-6092-4d68-e29d-e07dc398f531"
      },
      "source": [
        "print(d)"
      ],
      "execution_count": 25,
      "outputs": [
        {
          "output_type": "stream",
          "text": [
            "[646 638 429 443 635 327 696 332 210 521 312 240 289 582 386 247 568 409\n",
            " 319 400 503 286 236 244 363 334 585 470 260 516 590 671 356 524 311 332\n",
            " 442 348 545 465 523 223 507 513 295 452 636 311 219 613 430 383 470 393\n",
            " 238 304 577 649 650 218 357 348 409 379 481 698 693 444 268 395 381 599\n",
            " 422 301 226 652 417 259 565 591 513 516 603 431 336 392 550 365 508 381\n",
            " 627 623 517 495 441 659 391 316 301 481 461 427 215 577 552 602 534 247\n",
            " 266 252 264 340 524 352 343 434 585 617 310 681 363 561 326 551 655 589\n",
            " 520 580 220 674 624 602 480 230 686 548 570 418 557 549 648 220 316 353\n",
            " 610 460 523 536 495 421 425 312 305 529 443 421 556 622 481 471 685 286\n",
            " 326 291 544 427 637 526 346 682 438 685 397 485 431 422 612 242 632 586\n",
            " 261 676 299 292 364 583 668 430 554 382 534 498 546 587 291 350 355 213\n",
            " 551 340]\n"
          ],
          "name": "stdout"
        }
      ]
    },
    {
      "cell_type": "code",
      "metadata": {
        "id": "kB9jNu0OfT7Q"
      },
      "source": [
        "LpUrban=cos(f,loc1,tower,user,d)\r\n",
        "LpOpen=cos(f,loc2,tower,user,d)\r\n",
        "LpSuburban=cos(f,loc3,tower,user,d)"
      ],
      "execution_count": 26,
      "outputs": []
    },
    {
      "cell_type": "code",
      "metadata": {
        "colab": {
          "base_uri": "https://localhost:8080/"
        },
        "id": "a-PkNSClffVO",
        "outputId": "1b5de4f2-0e21-4be8-af99-b152db19504f"
      },
      "source": [
        "print(LpUrban, LpOpen, LpSuburban)"
      ],
      "execution_count": 27,
      "outputs": [
        {
          "output_type": "stream",
          "text": [
            "[186.15655395 185.98102224 180.39045706 180.84280631 185.91462979\n",
            " 176.56608938 187.20668516 176.77984519 170.32796189 183.12731614\n",
            " 175.90464216 172.20891681 174.82596739 184.68695008 178.902675\n",
            " 172.61388787 184.34396388 179.71795525 176.2171864  179.40452789\n",
            " 182.63204584 174.67897923 171.97216775 172.44175248 178.03729354\n",
            " 176.86444747 184.75937306 181.67618932 173.3364174  182.99147866\n",
            " 184.87925665 186.69140322 177.76300487 183.20819429 175.85942145\n",
            " 176.77984519 180.81097299 177.44284933 183.76170046 181.52553294\n",
            " 183.18128647 171.17404105 182.74362058 182.90934294 175.11542082\n",
            " 181.12611449 185.9367954  175.85942145 170.91907957 185.41794817\n",
            " 180.42325391 178.79276882 181.67618932 179.15583628 172.09103965\n",
            " 175.53874529 184.56541147 186.22181849 186.24350631 170.85461155\n",
            " 177.80251748 177.44284933 179.71795525 178.64488045 182.00206845\n",
            " 187.24710481 187.14583739 180.87456785 173.76330575 179.22734017\n",
            " 178.71901871 185.09250907 180.15871585 175.39904592 171.36227866\n",
            " 186.28678204 179.99082068 173.28213511 184.26936756 184.90311142\n",
            " 182.90934294 182.99147866 185.18626141 180.45597456 176.94854466\n",
            " 179.11994775 183.89034279 178.11469065 182.77137672 178.71901871\n",
            " 185.73603802 185.64588579 183.01875116 182.40620954 180.77906757\n",
            " 186.43720858 179.08396756 176.0840871  175.39904592 182.00206845\n",
            " 181.40383683 180.3246334  170.65941807 184.56541147 183.94147257\n",
            " 185.16288176 183.4744827  172.61388787 173.65779037 172.89618665\n",
            " 173.55147864 177.11524764 183.20819429 177.60383665 177.23899284\n",
            " 180.55368296 184.75937306 185.5095663  175.81405511 186.89978332\n",
            " 178.03729354 184.1692873  176.5229462  183.91593088 186.35144736\n",
            " 184.85536142 183.10025324 184.63846041 170.98325388 186.75424156\n",
            " 185.668478   185.16288176 181.97275265 171.60941197 187.00282867\n",
            " 183.83902675 184.39347619 180.02456019 184.0684909  183.86470814\n",
            " 186.20009722 170.98325388 176.0840871  177.64379763 185.34884139\n",
            " 181.37324781 183.18128647 183.52714159 182.40620954 180.12529653\n",
            " 180.25850071 175.90464216 175.58500555 183.34196773 180.84280631\n",
            " 180.12529653 184.04317869 185.62325729 182.00206845 181.7061282\n",
            " 186.98227982 174.67897923 176.5229462  174.92311425 183.73583041\n",
            " 180.3246334  185.95892618 183.26185621 177.36166041 186.92045278\n",
            " 180.68291541 186.98227982 179.29848294 182.11872533 180.45597456\n",
            " 180.15871585 185.39495023 172.32581571 185.84792294 184.78343154\n",
            " 173.39049132 186.79597859 175.30513732 174.97143758 178.07604525\n",
            " 184.71113247 186.62828331 180.42325391 183.99241742 178.75594203\n",
            " 183.4744827  182.49132302 183.78752308 184.807449   174.92311425\n",
            " 177.52357297 177.72338111 170.52777003 183.91593088 177.11524764] [182.98761151 182.81207979 177.22151462 177.67386387 182.74568735\n",
            " 173.39714693 184.03774272 173.61090274 167.15901945 179.9583737\n",
            " 172.73569972 169.03997436 171.65702495 181.51800764 175.73373256\n",
            " 169.44494543 181.17502143 176.54901281 173.04824396 176.23558544\n",
            " 179.4631034  171.51003679 168.8032253  169.27281004 174.8683511\n",
            " 173.69550502 181.59043061 178.50724688 170.16747496 179.82253622\n",
            " 181.71031421 183.52246078 174.59406243 180.03925184 172.69047901\n",
            " 173.61090274 177.64203055 174.27390688 180.59275801 178.3565905\n",
            " 180.01234402 168.00509861 179.57467814 179.74040049 171.94647837\n",
            " 177.95717205 182.76785295 172.69047901 167.75013712 182.24900573\n",
            " 177.25431146 175.62382637 178.50724688 175.98689383 168.92209721\n",
            " 172.36980284 181.39646903 183.05287604 183.07456387 167.6856691\n",
            " 174.63357504 174.27390688 176.54901281 175.47593801 178.833126\n",
            " 184.07816237 183.97689495 177.70562541 170.59436331 176.05839773\n",
            " 175.55007627 181.92356662 176.9897734  172.23010347 168.19333621\n",
            " 183.11783959 176.82187824 170.11319266 181.10042512 181.73416898\n",
            " 179.74040049 179.82253622 182.01731897 177.28703212 173.77960221\n",
            " 175.95100531 180.72140035 174.9457482  179.60243428 175.55007627\n",
            " 182.56709558 182.47694335 179.84980871 179.23726709 177.61012513\n",
            " 183.26826614 175.91502512 172.91514466 172.23010347 178.833126\n",
            " 178.23489438 177.15569096 167.49047562 181.39646903 180.77253012\n",
            " 181.99393931 180.30554025 169.44494543 170.48884793 169.72724421\n",
            " 170.3825362  173.9463052  180.03925184 174.43489421 174.07005039\n",
            " 177.38474052 181.59043061 182.34062386 172.64511267 183.73084087\n",
            " 174.8683511  181.00034486 173.35400375 180.74698843 183.18250491\n",
            " 181.68641898 179.9313108  181.46951796 167.81431144 183.58529912\n",
            " 182.49953555 181.99393931 178.8038102  168.44046952 183.83388623\n",
            " 180.67008431 181.22453374 176.85561775 180.89954845 180.69576569\n",
            " 183.03115478 167.81431144 172.91514466 174.47485519 182.17989895\n",
            " 178.20430536 180.01234402 180.35819915 179.23726709 176.95635408\n",
            " 177.08955827 172.73569972 172.41606311 180.17302528 177.67386387\n",
            " 176.95635408 180.87423625 182.45431485 178.833126   178.53718576\n",
            " 183.81333738 171.51003679 173.35400375 171.7541718  180.56688796\n",
            " 177.15569096 182.78998373 180.09291376 174.19271797 183.75151034\n",
            " 177.51397296 183.81333738 176.12954049 178.94978288 177.28703212\n",
            " 176.9897734  182.22600778 169.15687327 182.6789805  181.6144891\n",
            " 170.22154887 183.62703615 172.13619488 171.80249513 174.90710281\n",
            " 181.54219003 183.45934086 177.25431146 180.82347498 175.58699959\n",
            " 180.30554025 179.32238057 180.61858064 181.63850656 171.7541718\n",
            " 174.35463053 174.55443866 167.35882758 180.74698843 173.9463052 ] [182.58901184 182.41348013 176.82291496 177.27526421 182.34708769\n",
            " 172.99854727 183.63914306 173.21230308 166.76041979 179.55977404\n",
            " 172.33710005 168.6413747  171.25842529 181.11940798 175.33513289\n",
            " 169.04634577 180.77642177 176.15041315 172.6496443  175.83698578\n",
            " 179.06450373 171.11143713 168.40462564 168.87421038 174.46975144\n",
            " 173.29690536 181.19183095 178.10864722 169.7688753  179.42393656\n",
            " 181.31171455 183.12386112 174.19546276 179.64065218 172.29187935\n",
            " 173.21230308 177.24343089 173.87530722 180.19415835 177.95799083\n",
            " 179.61374436 167.60649895 179.17607848 179.34180083 171.54787871\n",
            " 177.55857239 182.36925329 172.29187935 167.35153746 181.85040607\n",
            " 176.8557118  175.22522671 178.10864722 175.58829417 168.52349755\n",
            " 171.97120318 180.99786937 182.65427638 182.6759642  167.28706944\n",
            " 174.23497538 173.87530722 176.15041315 175.07733835 178.43452634\n",
            " 183.67956271 183.57829529 177.30702575 170.19576365 175.65979807\n",
            " 175.15147661 181.52496696 176.59117374 171.83150381 167.79473655\n",
            " 182.71923993 176.42327858 169.714593   180.70182546 181.33556932\n",
            " 179.34180083 179.42393656 181.61871931 176.88843246 173.38100255\n",
            " 175.55240565 180.32280069 174.54714854 179.20383462 175.15147661\n",
            " 182.16849591 182.07834369 179.45120905 178.83866743 177.21152547\n",
            " 182.86966647 175.51642546 172.516545   171.83150381 178.43452634\n",
            " 177.83629472 176.7570913  167.09187596 180.99786937 180.37393046\n",
            " 181.59533965 179.90694059 169.04634577 170.09024827 169.32864454\n",
            " 169.98393654 173.54770554 179.64065218 174.03629454 173.67145073\n",
            " 176.98614086 181.19183095 181.94202419 172.24651301 183.33224121\n",
            " 174.46975144 180.6017452  172.95540409 180.34838877 182.78390525\n",
            " 181.28781931 179.53271113 181.0709183  167.41571178 183.18669946\n",
            " 182.10093589 181.59533965 178.40521054 168.04186986 183.43528657\n",
            " 180.27148464 180.82593408 176.45701809 180.50094879 180.29716603\n",
            " 182.63255512 167.41571178 172.516545   174.07625553 181.78129928\n",
            " 177.8057057  179.61374436 179.95959949 178.83866743 176.55775442\n",
            " 176.69095861 172.33710005 172.01746345 179.77442562 177.27526421\n",
            " 176.55775442 180.47563659 182.05571519 178.43452634 178.1385861\n",
            " 183.41473772 171.11143713 172.95540409 171.35557214 180.1682883\n",
            " 176.7570913  182.39138407 179.6943141  173.79411831 183.35291068\n",
            " 177.1153733  183.41473772 175.73094083 178.55118322 176.88843246\n",
            " 176.59117374 181.82740812 168.75827361 182.28038084 181.21588943\n",
            " 169.82294921 183.22843649 171.73759522 171.40389547 174.50850315\n",
            " 181.14359037 183.0607412  176.8557118  180.42487532 175.18839993\n",
            " 179.90694059 178.92378091 180.21998098 181.2399069  171.35557214\n",
            " 173.95603087 174.155839   166.96022792 180.34838877 173.54770554]\n"
          ],
          "name": "stdout"
        }
      ]
    },
    {
      "cell_type": "code",
      "metadata": {
        "colab": {
          "base_uri": "https://localhost:8080/",
          "height": 278
        },
        "id": "NWtlC7PdfuF5",
        "outputId": "08d197a2-b3b0-4049-e02f-b5705a6abe0e"
      },
      "source": [
        "plt.figure()\r\n",
        "plt.plot(d,LpUrban)\r\n",
        "plt.plot(d,LpOpen)\r\n",
        "plt.plot(d,LpSuburban)\r\n",
        "plt.xlabel('Jarak (m)')\r\n",
        "plt.ylabel('Path Loss (dB)')\r\n",
        "plt.show()"
      ],
      "execution_count": 28,
      "outputs": [
        {
          "output_type": "display_data",
          "data": {
            "image/png": "[encoded data removed]",
            "text/plain": [
              "<Figure size 432x288 with 1 Axes>"
            ]
          },
          "metadata": {
            "tags": [],
            "needs_background": "light"
          }
        }
      ]
    },
    {
      "cell_type": "code",
      "metadata": {
        "id": "t1MXFWVkf43Z"
      },
      "source": [
        "d_sort=d[np.argsort(d)]\r\n",
        "Urban_sort1=LpUrban[np.argsort(d)]\r\n",
        "Open_sort2=LpOpen[np.argsort(d)]\r\n",
        "Suburban_sort3=LpSuburban[np.argsort(d)]"
      ],
      "execution_count": 29,
      "outputs": []
    },
    {
      "cell_type": "code",
      "metadata": {
        "colab": {
          "base_uri": "https://localhost:8080/",
          "height": 295
        },
        "id": "WnJ4fSEuf99L",
        "outputId": "c7352c20-b5d4-46da-a0d9-d87cb5b7ecef"
      },
      "source": [
        "plt.figure()\r\n",
        "plt.title('FREKUENSI 1800MHz (URBAN, OPEN, SUBURBAN)')\r\n",
        "plt.plot(d_sort,Urban_sort1, label='Urban')\r\n",
        "plt.plot(d_sort,Open_sort2, label=\"Open\")\r\n",
        "plt.plot(d_sort,Suburban_sort3, label=\"Suburban\")\r\n",
        "plt.legend()\r\n",
        "plt.xlabel('Jarak (m)')\r\n",
        "plt.ylabel('Path Loss (dB)')\r\n",
        "plt.show()"
      ],
      "execution_count": 30,
      "outputs": [
        {
          "output_type": "display_data",
          "data": {
            "image/png": "[encoded data removed]",
            "text/plain": [
              "<Figure size 432x288 with 1 Axes>"
            ]
          },
          "metadata": {
            "tags": [],
            "needs_background": "light"
          }
        }
      ]
    },
    {
      "cell_type": "markdown",
      "metadata": {
        "id": "6TrGZpCYQbZl"
      },
      "source": [
        "# **Grafik Model Urban pada Frekuensi 700MHz, 900MHz, dan 1800MHz**"
      ]
    },
    {
      "cell_type": "code",
      "metadata": {
        "id": "EJUGiqITQfx5"
      },
      "source": [
        "def cos(frek,tipe,ht,hr,d):\n",
        "    if frek in range(150,1501):\n",
        "        Ca=69.55\n",
        "        Cb=26.16\n",
        "    elif frek in range(1501,2001):\n",
        "        Ca=46.3\n",
        "        Cb=33.9\n",
        "    \n",
        "    if tipe=='urban' :\n",
        "        Cm=0\n",
        "    elif tipe=='suburban' :\n",
        "        Cm= -2*((np.log10((frek/28)**2))-5.4)\n",
        "    elif tipe=='open' :\n",
        "        Cm= -4.78*(np.log10(frek))+18.33*(np.log10(frek))-40.94\n",
        "    else :\n",
        "        Cm='tipe salah'\n",
        "    \n",
        "    ahr = (1.1*np.log10(frek)-0.7)*hr-(1.56*np.log10(frek)-1.8)\n",
        "    Lp = Ca+(Cb*np.log10(frek))-(13.83*np.log(ht))-ahr+((44.9-6.55*np.log10(ht))*np.log10(d))-Cm\n",
        "    \n",
        "    return Lp"
      ],
      "execution_count": 31,
      "outputs": []
    },
    {
      "cell_type": "code",
      "metadata": {
        "id": "53d-Ye-LQlXh"
      },
      "source": [
        "f1=700 #MHz\n",
        "f2=900 #MHz\n",
        "f3=1800 #MHz\n",
        "loc='urban'\n",
        "tower=80 #m\n",
        "user=1.5 #m\n",
        "dmin=200 #m\n",
        "dmax=700 #m\n",
        "N=200 #titik\n",
        "d=np.random.randint(dmin,dmax,N)"
      ],
      "execution_count": 32,
      "outputs": []
    },
    {
      "cell_type": "code",
      "metadata": {
        "colab": {
          "base_uri": "https://localhost:8080/"
        },
        "id": "qhdPl7JETiqL",
        "outputId": "e718fd29-e665-4dfc-c2dd-e5c1f465691a"
      },
      "source": [
        "print(d)"
      ],
      "execution_count": 33,
      "outputs": [
        {
          "output_type": "stream",
          "text": [
            "[282 405 242 235 233 677 480 528 500 418 339 328 554 398 689 681 551 579\n",
            " 468 479 405 598 239 227 497 571 217 258 592 444 663 485 236 235 348 403\n",
            " 503 657 657 608 514 500 495 417 677 566 336 345 481 334 571 497 350 624\n",
            " 366 672 226 389 599 667 260 463 467 647 577 683 250 316 372 444 525 604\n",
            " 377 505 245 448 421 530 462 265 523 541 433 328 544 572 426 665 641 520\n",
            " 434 318 244 335 643 342 426 329 249 626 349 220 304 316 692 610 561 597\n",
            " 405 431 398 683 646 634 619 681 389 466 625 626 662 595 373 330 480 239\n",
            " 569 592 294 373 441 487 541 652 487 664 241 459 599 631 420 213 434 378\n",
            " 678 663 683 495 576 653 593 483 660 649 372 289 669 526 425 265 292 485\n",
            " 352 386 656 641 697 456 642 520 405 409 517 695 533 683 394 671 430 428\n",
            " 440 310 279 404 330 647 369 317 635 495 582 474 316 224 213 320 250 389\n",
            " 654 512]\n"
          ],
          "name": "stdout"
        }
      ]
    },
    {
      "cell_type": "code",
      "metadata": {
        "id": "IgW6t5oSRMBQ"
      },
      "source": [
        "LpUrban700=cos(f1,loc,tower,user,d)\r\n",
        "LpUrban900=cos(f2,loc,tower,user,d)\r\n",
        "LpUrban1800=cos(f3,loc,tower,user,d)"
      ],
      "execution_count": 34,
      "outputs": []
    },
    {
      "cell_type": "code",
      "metadata": {
        "id": "rIFJSsdSTn-6",
        "colab": {
          "base_uri": "https://localhost:8080/"
        },
        "outputId": "cb80dea0-fbd1-4aec-c588-91c3a68e3e76"
      },
      "source": [
        "print(LpUrban700, LpUrban900, LpUrban1800)"
      ],
      "execution_count": 35,
      "outputs": [
        {
          "output_type": "stream",
          "text": [
            "[161.84152075 166.94045696 159.68675822 159.27329599 159.15290006\n",
            " 174.17774333 169.33369515 170.67625698 169.90872346 167.3855027\n",
            " 164.43469899 163.97004333 171.35335993 166.69486254 174.4252385\n",
            " 174.26072582 171.27687338 171.97509533 168.97706249 169.30431821\n",
            " 166.94045696 172.42991566 159.51104404 158.78541216 169.82395147\n",
            " 171.77910974 158.15078963 160.58858533 172.28786837 168.23551036\n",
            " 173.88339333 169.47966783 159.33311025 159.27329599 164.80379183\n",
            " 166.87072297 169.99298835 173.75533574 173.75533574 172.66352363\n",
            " 170.29771727 169.90872346 169.76715204 167.35176319 174.17774333\n",
            " 171.65521943 164.30948716 164.6818323  169.36301095 164.22538997\n",
            " 171.77910974 169.82395147 164.88451548 173.0294205  165.51417282\n",
            " 174.073323   158.72322116 166.37267279 172.45345157 173.96812283\n",
            " 160.69735991 168.82575881 168.94693149 173.53928492 171.92635398\n",
            " 174.30203447 160.14488762 163.44502961 165.74322237 168.23551036\n",
            " 170.59599331 172.57054483 165.93129243 170.04888619 159.86030749\n",
            " 168.36184517 167.48623903 170.72951314 168.79530207 160.96567731\n",
            " 170.54222897 171.01887647 167.88213125 163.97004333 171.09677291\n",
            " 171.80375758 167.65254837 173.92582179 173.40804573 170.46119575\n",
            " 167.91462547 163.53390206 159.80269499 164.26750133 173.45192813\n",
            " 164.55880761 167.65254837 164.01292384 160.08842968 173.0744965\n",
            " 164.84421148 158.34419639 162.89968779 163.44502961 174.48643876\n",
            " 172.7097839  171.53022981 172.40634037 166.94045696 167.81691707\n",
            " 166.69486254 174.30203447 173.51749646 173.25337176 172.91609537\n",
            " 174.26072582 166.37267279 168.9167359  173.05197653 173.0744965\n",
            " 173.86213108 172.35907107 165.7810378  164.05567422 169.33369515\n",
            " 159.51104404 171.72968429 172.28786837 162.42853225 165.7810378\n",
            " 168.14001008 169.53763597 171.01887647 173.64772454 169.53763597\n",
            " 173.90462353 159.62843003 168.70353472 172.45345157 173.18655944\n",
            " 167.45274023 157.88871253 167.91462547 165.96860698 174.19853483\n",
            " 173.88339333 174.30203447 169.76715204 171.90191991 173.66931265\n",
            " 172.31164261 169.42146015 173.81951005 173.58276099 165.74322237\n",
            " 162.1869099  174.01029723 170.62279871 167.61944322 160.96567731\n",
            " 162.33238008 169.47966783 164.96477916 166.26361751 173.73387917\n",
            " 173.40804573 174.58785199 168.61116562 173.43000402 170.46119575\n",
            " 166.94045696 167.07889776 170.37969366 174.54737427 170.80902175\n",
            " 174.30203447 166.5525761  174.05234573 167.78419641 167.71852619\n",
            " 168.10803223 163.17499762 161.69086436 166.90563312 164.05567422\n",
            " 173.53928492 165.62916315 163.48953593 173.2755723  169.76715204\n",
            " 172.04789259 169.15650744 163.44502961 158.59800934 157.88871253\n",
            " 163.62221732 160.14488762 166.37267279 173.69086772 170.24280009] [164.68691707 169.78585328 162.53215454 162.11869231 161.99829638\n",
            " 177.02313965 172.17909147 173.5216533  172.75411978 170.23089901\n",
            " 167.28009531 166.81543965 174.19875625 169.54025886 177.27063481\n",
            " 177.10612214 174.1222697  174.82049165 171.82245881 172.14971453\n",
            " 169.78585328 175.27531198 162.35644036 161.63080847 172.66934778\n",
            " 174.62450606 160.99618595 163.43398165 175.13326469 171.08090668\n",
            " 176.72878965 172.32506415 162.17850657 162.11869231 167.64918815\n",
            " 169.71611929 172.83838466 176.60073206 176.60073206 175.50891995\n",
            " 173.14311358 172.75411978 172.61254836 170.19715951 177.02313965\n",
            " 174.50061574 167.15488348 167.52722862 172.20840727 167.07078629\n",
            " 174.62450606 172.66934778 167.72991179 175.87481682 168.35956913\n",
            " 176.91871932 161.56861748 169.21806911 175.29884789 176.81351915\n",
            " 163.54275622 171.67115513 171.79232781 176.38468123 174.7717503\n",
            " 177.14743079 162.99028394 166.29042593 168.58861869 171.08090668\n",
            " 173.44138962 175.41594115 168.77668874 172.8942825  162.70570381\n",
            " 171.20724149 170.33163535 173.57490946 171.64069839 163.81107362\n",
            " 173.38762529 173.86427279 170.72752757 166.81543965 173.94216923\n",
            " 174.6491539  170.49794469 176.7712181  176.25344205 173.30659206\n",
            " 170.76002179 166.37929838 162.6480913  167.11289765 176.29732444\n",
            " 167.40420393 170.49794469 166.85832016 162.933826   175.91989282\n",
            " 167.6896078  161.18959271 165.74508411 166.29042593 177.33183507\n",
            " 175.55518021 174.37562613 175.25173668 169.78585328 170.66231339\n",
            " 169.54025886 177.14743079 176.36289277 176.09876808 175.76149169\n",
            " 177.10612214 169.21806911 171.76213222 175.89737285 175.91989282\n",
            " 176.7075274  175.20446739 168.62643412 166.90107053 172.17909147\n",
            " 162.35644036 174.57508061 175.13326469 165.27392857 168.62643412\n",
            " 170.9854064  172.38303229 173.86427279 176.49312086 172.38303229\n",
            " 176.75001985 162.47382635 171.54893104 175.29884789 176.03195576\n",
            " 170.29813655 160.73410885 170.76002179 168.8140033  177.04393115\n",
            " 176.72878965 177.14743079 172.61254836 174.74731623 176.51470897\n",
            " 175.15703893 172.26685647 176.66490637 176.42815731 168.58861869\n",
            " 165.03230622 176.85569354 173.46819503 170.46483953 163.81107362\n",
            " 165.1777764  172.32506415 167.81017547 169.10901382 176.57927549\n",
            " 176.25344205 177.43324831 171.45656194 176.27540033 173.30659206\n",
            " 169.78585328 169.92429407 173.22508998 177.39277059 173.65441807\n",
            " 177.14743079 169.39797242 176.89774205 170.62959273 170.5639225\n",
            " 170.95342854 166.02039393 164.53626068 169.75102943 166.90107053\n",
            " 176.38468123 168.47455947 166.33493224 176.12096862 172.61254836\n",
            " 174.89328891 172.00190375 166.29042593 161.44340565 160.73410885\n",
            " 166.46761364 162.99028394 169.21806911 176.53626404 173.08819641] [174.48057824 179.57951445 172.32581571 171.91235348 171.79195756\n",
            " 186.81680082 181.97275265 183.31531448 182.54778096 180.02456019\n",
            " 177.07375648 176.60910082 183.99241742 179.33392003 187.06429599\n",
            " 186.89978332 183.91593088 184.61415283 181.61611999 181.94337571\n",
            " 179.57951445 185.06897316 172.15010153 171.42446965 182.46300896\n",
            " 184.41816723 170.78984712 173.22764283 184.92692586 180.87456785\n",
            " 186.52245082 182.11872533 171.97216775 171.91235348 177.44284933\n",
            " 179.50978046 182.63204584 186.39439323 186.39439323 185.30258113\n",
            " 182.93677476 182.54778096 182.40620954 179.99082068 186.81680082\n",
            " 184.29427692 176.94854466 177.3208898  182.00206845 176.86444747\n",
            " 184.41816723 182.46300896 177.52357297 185.668478   178.15323031\n",
            " 186.7123805  171.36227866 179.01173029 185.09250907 186.60718033\n",
            " 173.3364174  181.4648163  181.58598899 186.17834241 184.56541147\n",
            " 186.94109196 172.78394512 176.0840871  178.38227987 180.87456785\n",
            " 183.2350508  185.20960232 178.57034992 182.68794368 172.49936498\n",
            " 181.00090267 180.12529653 183.36857064 181.43435956 173.6047348\n",
            " 183.18128647 183.65793397 180.52118874 176.60910082 183.73583041\n",
            " 184.44281507 180.29160587 186.56487928 186.04710322 183.10025324\n",
            " 180.55368296 176.17295956 172.44175248 176.90655882 186.09098562\n",
            " 177.19786511 180.29160587 176.65198134 172.72748718 185.713554\n",
            " 177.48326897 170.98325388 175.53874529 176.0840871  187.12549625\n",
            " 185.34884139 184.1692873  185.04539786 179.57951445 180.45597456\n",
            " 179.33392003 186.94109196 186.15655395 185.89242926 185.55515287\n",
            " 186.89978332 179.01173029 181.5557934  185.69103403 185.713554\n",
            " 186.50118857 184.99812856 178.42009529 176.69473171 181.97275265\n",
            " 172.15010153 184.36874179 184.92692586 175.06758974 178.42009529\n",
            " 180.77906757 182.17669346 183.65793397 186.28678204 182.17669346\n",
            " 186.54368103 172.26748753 181.34259222 185.09250907 185.82561694\n",
            " 180.09179773 170.52777003 180.55368296 178.60766448 186.83759232\n",
            " 186.52245082 186.94109196 182.40620954 184.5409774  186.30837014\n",
            " 184.95070011 182.06051765 186.45856755 186.22181849 178.38227987\n",
            " 174.82596739 186.64935472 183.26185621 180.25850071 173.6047348\n",
            " 174.97143758 182.11872533 177.60383665 178.902675   186.37293666\n",
            " 186.04710322 187.22690949 181.25022312 186.06906151 183.10025324\n",
            " 179.57951445 179.71795525 183.01875116 187.18643176 183.44807925\n",
            " 186.94109196 179.19163359 186.69140322 180.42325391 180.35758368\n",
            " 180.74708972 175.81405511 174.32992186 179.54469061 176.69473171\n",
            " 186.17834241 178.26822064 176.12859342 185.91462979 182.40620954\n",
            " 184.68695008 181.79556493 176.0840871  171.23706683 170.52777003\n",
            " 176.26127482 172.78394512 179.01173029 186.32992522 182.88185758]\n"
          ],
          "name": "stdout"
        }
      ]
    },
    {
      "cell_type": "code",
      "metadata": {
        "colab": {
          "base_uri": "https://localhost:8080/",
          "height": 278
        },
        "id": "o4qflQDdRXSo",
        "outputId": "b6e4e135-14f4-4167-937f-57dbd5d85926"
      },
      "source": [
        "plt.figure()\n",
        "plt.plot(d,LpUrban700)\n",
        "plt.plot(d,LpUrban900)\n",
        "plt.plot(d,LpUrban1800)\n",
        "plt.xlabel('Jarak (m)')\n",
        "plt.ylabel('Path Loss (dB)')\n",
        "plt.show()"
      ],
      "execution_count": 36,
      "outputs": [
        {
          "output_type": "display_data",
          "data": {
            "image/png": "[encoded data removed]",
            "text/plain": [
              "<Figure size 432x288 with 1 Axes>"
            ]
          },
          "metadata": {
            "tags": [],
            "needs_background": "light"
          }
        }
      ]
    },
    {
      "cell_type": "code",
      "metadata": {
        "id": "MbvWh9qIRkKJ"
      },
      "source": [
        "d_sort=d[np.argsort(d)]\n",
        "Urban_sort1=LpUrban700[np.argsort(d)]\n",
        "Urban_sort2=LpUrban900[np.argsort(d)]\n",
        "Urban_sort3=LpUrban1800[np.argsort(d)]"
      ],
      "execution_count": 37,
      "outputs": []
    },
    {
      "cell_type": "code",
      "metadata": {
        "colab": {
          "base_uri": "https://localhost:8080/",
          "height": 295
        },
        "id": "79YaOB0uSBn6",
        "outputId": "a9f25b17-9109-4fce-dd21-347c5c0942c3"
      },
      "source": [
        "plt.figure()\n",
        "plt.plot(d_sort,Urban_sort1, label='700MHz')\n",
        "plt.plot(d_sort,Urban_sort2, label='900MHz')\n",
        "plt.plot(d_sort,Urban_sort3, label='1800MHz')\n",
        "plt.legend()\n",
        "plt.title('MODEL URBAN (700MHz, 900MHz, 1800MHz)')\n",
        "plt.xlabel('Jarak (m)')\n",
        "plt.ylabel('Path Loss (dB)')\n",
        "plt.show()"
      ],
      "execution_count": 38,
      "outputs": [
        {
          "output_type": "display_data",
          "data": {
            "image/png": "[encoded data removed]",
            "text/plain": [
              "<Figure size 432x288 with 1 Axes>"
            ]
          },
          "metadata": {
            "tags": [],
            "needs_background": "light"
          }
        }
      ]
    },
    {
      "cell_type": "code",
      "metadata": {
        "id": "Bslo_hoFSFZD"
      },
      "source": [
        ""
      ],
      "execution_count": 38,
      "outputs": []
    }
  ]
}