{
  "nbformat": 4,
  "nbformat_minor": 0,
  "metadata": {
    "colab": {
      "name": "TUGAS13.ipynb",
      "provenance": [],
      "collapsed_sections": [],
      "mount_file_id": "1xgrSoKOJY0E5nJD4F5YLsJDW0g_cToPF",
      "authorship_tag": "ABX9TyNQBz0GhvvUSe0wV2qdFLzK",
      "include_colab_link": true
    },
    "kernelspec": {
      "name": "python3",
      "display_name": "Python 3"
    }
  },
  "cells": [
    {
      "cell_type": "markdown",
      "metadata": {
        "id": "view-in-github",
        "colab_type": "text"
      },
      "source": [
        "<a href=\"https://colab.research.google.com/github/olyvias/python/blob/main/TUGAS13.ipynb\" target=\"_parent\"><img src=\"https://colab.research.google.com/assets/colab-badge.svg\" alt=\"Open In Colab\"/></a>"
      ]
    },
    {
      "cell_type": "markdown",
      "metadata": {
        "id": "FQC_AUmtBbmk"
      },
      "source": [
        "# Numpy dan Matplotlib (Path Loss Simulation)\n",
        "## OLYVIA FERNANDA SOEDRADJAT / 1101208479 / TTX-44-01"
      ]
    },
    {
      "cell_type": "code",
      "metadata": {
        "id": "_a_N7F-JBnG8"
      },
      "source": [
        "import numpy as np\n",
        "import matplotlib.pyplot as plt\n"
      ],
      "execution_count": 39,
      "outputs": []
    },
    {
      "cell_type": "code",
      "metadata": {
        "colab": {
          "base_uri": "https://localhost:8080/"
        },
        "id": "p2IhgozVHEBy",
        "outputId": "0c2244c6-0f55-4d88-90f6-8b00ec5cb19d"
      },
      "source": [
        "np.zeros(4)"
      ],
      "execution_count": 40,
      "outputs": [
        {
          "output_type": "execute_result",
          "data": {
            "text/plain": [
              "array([0., 0., 0., 0.])"
            ]
          },
          "metadata": {
            "tags": []
          },
          "execution_count": 40
        }
      ]
    },
    {
      "cell_type": "code",
      "metadata": {
        "colab": {
          "base_uri": "https://localhost:8080/"
        },
        "id": "QtGgWIULHOzi",
        "outputId": "fc43e68e-c174-41b4-ef83-7671a8db418c"
      },
      "source": [
        "np.ones(3)"
      ],
      "execution_count": 41,
      "outputs": [
        {
          "output_type": "execute_result",
          "data": {
            "text/plain": [
              "array([1., 1., 1.])"
            ]
          },
          "metadata": {
            "tags": []
          },
          "execution_count": 41
        }
      ]
    },
    {
      "cell_type": "markdown",
      "metadata": {
        "id": "lwGp9q-HHiEb"
      },
      "source": [
        "**(Baris,Kolom)**"
      ]
    },
    {
      "cell_type": "code",
      "metadata": {
        "colab": {
          "base_uri": "https://localhost:8080/"
        },
        "id": "fSMPTFUeHXeT",
        "outputId": "ee9deb05-158e-42da-abf9-b37a859b2e07"
      },
      "source": [
        "np.zeros((3,4))"
      ],
      "execution_count": 42,
      "outputs": [
        {
          "output_type": "execute_result",
          "data": {
            "text/plain": [
              "array([[0., 0., 0., 0.],\n",
              "       [0., 0., 0., 0.],\n",
              "       [0., 0., 0., 0.]])"
            ]
          },
          "metadata": {
            "tags": []
          },
          "execution_count": 42
        }
      ]
    },
    {
      "cell_type": "code",
      "metadata": {
        "colab": {
          "base_uri": "https://localhost:8080/"
        },
        "id": "fe_utTgWHge9",
        "outputId": "dd642a9d-5b77-4f81-f59c-d40a76f7ebd0"
      },
      "source": [
        "np.ones((5,2))"
      ],
      "execution_count": 43,
      "outputs": [
        {
          "output_type": "execute_result",
          "data": {
            "text/plain": [
              "array([[1., 1.],\n",
              "       [1., 1.],\n",
              "       [1., 1.],\n",
              "       [1., 1.],\n",
              "       [1., 1.]])"
            ]
          },
          "metadata": {
            "tags": []
          },
          "execution_count": 43
        }
      ]
    },
    {
      "cell_type": "code",
      "metadata": {
        "colab": {
          "base_uri": "https://localhost:8080/"
        },
        "id": "w7tGab0KHpON",
        "outputId": "d7061649-a134-44b9-e379-59927afa575c"
      },
      "source": [
        "np.arange(10)"
      ],
      "execution_count": 44,
      "outputs": [
        {
          "output_type": "execute_result",
          "data": {
            "text/plain": [
              "array([0, 1, 2, 3, 4, 5, 6, 7, 8, 9])"
            ]
          },
          "metadata": {
            "tags": []
          },
          "execution_count": 44
        }
      ]
    },
    {
      "cell_type": "code",
      "metadata": {
        "colab": {
          "base_uri": "https://localhost:8080/"
        },
        "id": "KWuV08zbHyNX",
        "outputId": "e4597767-158f-430a-f56d-2830d1379ac7"
      },
      "source": [
        "np.arange(2,10)"
      ],
      "execution_count": 45,
      "outputs": [
        {
          "output_type": "execute_result",
          "data": {
            "text/plain": [
              "array([2, 3, 4, 5, 6, 7, 8, 9])"
            ]
          },
          "metadata": {
            "tags": []
          },
          "execution_count": 45
        }
      ]
    },
    {
      "cell_type": "code",
      "metadata": {
        "colab": {
          "base_uri": "https://localhost:8080/"
        },
        "id": "Ohl_udXnH-Oz",
        "outputId": "0627c1bf-a983-4325-d87b-30b1eab02e6e"
      },
      "source": [
        "np.arange(3,47,4)"
      ],
      "execution_count": 46,
      "outputs": [
        {
          "output_type": "execute_result",
          "data": {
            "text/plain": [
              "array([ 3,  7, 11, 15, 19, 23, 27, 31, 35, 39, 43])"
            ]
          },
          "metadata": {
            "tags": []
          },
          "execution_count": 46
        }
      ]
    },
    {
      "cell_type": "code",
      "metadata": {
        "id": "OQ72u2w4INT5"
      },
      "source": [
        ""
      ],
      "execution_count": 46,
      "outputs": []
    },
    {
      "cell_type": "markdown",
      "metadata": {
        "id": "IdF4bg_jITm-"
      },
      "source": [
        "Arange = (Awal,Akhir,delta)"
      ]
    },
    {
      "cell_type": "code",
      "metadata": {
        "colab": {
          "base_uri": "https://localhost:8080/"
        },
        "id": "W5CxZ4mpIaFx",
        "outputId": "283c5b8f-8483-4768-e8a1-8acc4539a649"
      },
      "source": [
        "np.arange(4,5,0.1)"
      ],
      "execution_count": 47,
      "outputs": [
        {
          "output_type": "execute_result",
          "data": {
            "text/plain": [
              "array([4. , 4.1, 4.2, 4.3, 4.4, 4.5, 4.6, 4.7, 4.8, 4.9])"
            ]
          },
          "metadata": {
            "tags": []
          },
          "execution_count": 47
        }
      ]
    },
    {
      "cell_type": "code",
      "metadata": {
        "colab": {
          "base_uri": "https://localhost:8080/"
        },
        "id": "bTgHkXmUIg7L",
        "outputId": "02523c3a-1ca8-47ec-9cfe-025055f26b9c"
      },
      "source": [
        "np.arange(2,-4,-0.5)"
      ],
      "execution_count": 48,
      "outputs": [
        {
          "output_type": "execute_result",
          "data": {
            "text/plain": [
              "array([ 2. ,  1.5,  1. ,  0.5,  0. , -0.5, -1. , -1.5, -2. , -2.5, -3. ,\n",
              "       -3.5])"
            ]
          },
          "metadata": {
            "tags": []
          },
          "execution_count": 48
        }
      ]
    },
    {
      "cell_type": "code",
      "metadata": {
        "colab": {
          "base_uri": "https://localhost:8080/"
        },
        "id": "nktsy1fkI54z",
        "outputId": "a1edb1f3-e998-4f0f-cca7-f4ace63dc2de"
      },
      "source": [
        "np.linspace(2,10,4)"
      ],
      "execution_count": 49,
      "outputs": [
        {
          "output_type": "execute_result",
          "data": {
            "text/plain": [
              "array([ 2.        ,  4.66666667,  7.33333333, 10.        ])"
            ]
          },
          "metadata": {
            "tags": []
          },
          "execution_count": 49
        }
      ]
    },
    {
      "cell_type": "code",
      "metadata": {
        "colab": {
          "base_uri": "https://localhost:8080/"
        },
        "id": "NSyeDR0FJc3X",
        "outputId": "54b3260f-19c9-4a42-ebbe-95207fbe2ee7"
      },
      "source": [
        "np.linspace(2,-4,4)"
      ],
      "execution_count": 50,
      "outputs": [
        {
          "output_type": "execute_result",
          "data": {
            "text/plain": [
              "array([ 2.,  0., -2., -4.])"
            ]
          },
          "metadata": {
            "tags": []
          },
          "execution_count": 50
        }
      ]
    },
    {
      "cell_type": "code",
      "metadata": {
        "id": "WGdTFhoiJppN"
      },
      "source": [
        "e=np.arange(0,20,2)"
      ],
      "execution_count": 51,
      "outputs": []
    },
    {
      "cell_type": "code",
      "metadata": {
        "colab": {
          "base_uri": "https://localhost:8080/"
        },
        "id": "CGf98_AHKD9M",
        "outputId": "9a6729e8-75b4-4390-b02d-5651b471c526"
      },
      "source": [
        "len(e)"
      ],
      "execution_count": 52,
      "outputs": [
        {
          "output_type": "execute_result",
          "data": {
            "text/plain": [
              "10"
            ]
          },
          "metadata": {
            "tags": []
          },
          "execution_count": 52
        }
      ]
    },
    {
      "cell_type": "code",
      "metadata": {
        "colab": {
          "base_uri": "https://localhost:8080/"
        },
        "id": "TrQRn9faKFeo",
        "outputId": "229c69f6-cb1e-41ee-fe8f-b3078f880b38"
      },
      "source": [
        "e.reshape(5,2)"
      ],
      "execution_count": 53,
      "outputs": [
        {
          "output_type": "execute_result",
          "data": {
            "text/plain": [
              "array([[ 0,  2],\n",
              "       [ 4,  6],\n",
              "       [ 8, 10],\n",
              "       [12, 14],\n",
              "       [16, 18]])"
            ]
          },
          "metadata": {
            "tags": []
          },
          "execution_count": 53
        }
      ]
    },
    {
      "cell_type": "code",
      "metadata": {
        "colab": {
          "base_uri": "https://localhost:8080/"
        },
        "id": "-SQXnZkeKJxM",
        "outputId": "bfb341c4-e6fb-4dfa-e6b1-dddae50ab3ba"
      },
      "source": [
        "e.reshape(2,5)"
      ],
      "execution_count": 54,
      "outputs": [
        {
          "output_type": "execute_result",
          "data": {
            "text/plain": [
              "array([[ 0,  2,  4,  6,  8],\n",
              "       [10, 12, 14, 16, 18]])"
            ]
          },
          "metadata": {
            "tags": []
          },
          "execution_count": 54
        }
      ]
    },
    {
      "cell_type": "code",
      "metadata": {
        "colab": {
          "base_uri": "https://localhost:8080/"
        },
        "id": "cfxPx2XhKM2a",
        "outputId": "11e1b6cc-0641-460c-ef5f-908ed1c770f7"
      },
      "source": [
        "print(e)"
      ],
      "execution_count": 55,
      "outputs": [
        {
          "output_type": "stream",
          "text": [
            "[ 0  2  4  6  8 10 12 14 16 18]\n"
          ],
          "name": "stdout"
        }
      ]
    },
    {
      "cell_type": "code",
      "metadata": {
        "id": "HmwbQ4d7KP-5"
      },
      "source": [
        "f=e.reshape(5,2)"
      ],
      "execution_count": 56,
      "outputs": []
    },
    {
      "cell_type": "code",
      "metadata": {
        "colab": {
          "base_uri": "https://localhost:8080/"
        },
        "id": "InZvEqHrKoPy",
        "outputId": "5edb2e3b-a413-459a-cc01-846cb73af196"
      },
      "source": [
        "print(f)"
      ],
      "execution_count": 57,
      "outputs": [
        {
          "output_type": "stream",
          "text": [
            "[[ 0  2]\n",
            " [ 4  6]\n",
            " [ 8 10]\n",
            " [12 14]\n",
            " [16 18]]\n"
          ],
          "name": "stdout"
        }
      ]
    },
    {
      "cell_type": "code",
      "metadata": {
        "colab": {
          "base_uri": "https://localhost:8080/"
        },
        "id": "Od42_rDpMhUQ",
        "outputId": "c8c38d1e-112f-4a37-e03d-7aa87196c8e4"
      },
      "source": [
        "np.random.random((3,4))"
      ],
      "execution_count": 58,
      "outputs": [
        {
          "output_type": "execute_result",
          "data": {
            "text/plain": [
              "array([[0.71598254, 0.59429137, 0.38288993, 0.67806278],\n",
              "       [0.70687433, 0.73387642, 0.46180095, 0.84485691],\n",
              "       [0.05761402, 0.39500069, 0.95082326, 0.46795282]])"
            ]
          },
          "metadata": {
            "tags": []
          },
          "execution_count": 58
        }
      ]
    },
    {
      "cell_type": "code",
      "metadata": {
        "colab": {
          "base_uri": "https://localhost:8080/"
        },
        "id": "Qdktkp3dMmRV",
        "outputId": "01c9b29f-effc-4ae2-e162-3abec650ccfe"
      },
      "source": [
        "np.random.randint(1,20,10)"
      ],
      "execution_count": 59,
      "outputs": [
        {
          "output_type": "execute_result",
          "data": {
            "text/plain": [
              "array([ 7, 15,  9,  6, 12,  3,  3,  6, 11, 13])"
            ]
          },
          "metadata": {
            "tags": []
          },
          "execution_count": 59
        }
      ]
    },
    {
      "cell_type": "code",
      "metadata": {
        "colab": {
          "base_uri": "https://localhost:8080/"
        },
        "id": "E4nPQ-KJNBSQ",
        "outputId": "df00a213-2b8f-428e-e24b-3a8170c01c42"
      },
      "source": [
        "np.random.randn(3)"
      ],
      "execution_count": 60,
      "outputs": [
        {
          "output_type": "execute_result",
          "data": {
            "text/plain": [
              "array([-2.11796023, -0.3313827 , -0.15694404])"
            ]
          },
          "metadata": {
            "tags": []
          },
          "execution_count": 60
        }
      ]
    },
    {
      "cell_type": "code",
      "metadata": {
        "id": "Fk3jszUyNdxZ"
      },
      "source": [
        ""
      ],
      "execution_count": 60,
      "outputs": []
    },
    {
      "cell_type": "markdown",
      "metadata": {
        "id": "nAL9h3AneiD4"
      },
      "source": [
        "# **Grafik Frekuensi 1800MHz pada Daerah Urban, Open, dan Sub Urban**"
      ]
    },
    {
      "cell_type": "code",
      "metadata": {
        "id": "7bOjuB7ke9Os"
      },
      "source": [
        "def cos(frek,tipe,ht,hr,d):\r\n",
        "    if frek in range(150,1501):\r\n",
        "        Ca=69.55\r\n",
        "        Cb=26.16\r\n",
        "    elif frek in range(1501,2001):\r\n",
        "        Ca=46.3\r\n",
        "        Cb=33.9\r\n",
        "    \r\n",
        "    if tipe=='urban' :\r\n",
        "        Cm=0\r\n",
        "    elif tipe=='suburban' :\r\n",
        "        Cm= -2*((np.log10((frek/28)**2))-5.4)\r\n",
        "    elif tipe=='open' :\r\n",
        "        Cm= -4.78*(np.log10(frek))+18.33*(np.log10(frek))-40.94\r\n",
        "    else :\r\n",
        "        Cm='tipe salah'\r\n",
        "    \r\n",
        "    ahr = (1.1*np.log10(frek)-0.7)*hr-(1.56*np.log10(frek)-1.8)\r\n",
        "    Lp = Ca+(Cb*np.log10(frek))-(13.83*np.log(ht))-ahr+((44.9-6.55*np.log10(ht))*np.log10(d))-Cm\r\n",
        "    \r\n",
        "    return Lp"
      ],
      "execution_count": 61,
      "outputs": []
    },
    {
      "cell_type": "code",
      "metadata": {
        "id": "nezVGk5OfBn_"
      },
      "source": [
        "f=1800 #MHz\r\n",
        "loc1='urban'\r\n",
        "loc2='open'\r\n",
        "loc3='suburban'\r\n",
        "tower=80 #m\r\n",
        "user=1.5 #m\r\n",
        "dmin=200 #m\r\n",
        "dmax=700 #m\r\n",
        "N=200 #titik\r\n",
        "d=np.random.randint(dmin,dmax,N)"
      ],
      "execution_count": 62,
      "outputs": []
    },
    {
      "cell_type": "code",
      "metadata": {
        "colab": {
          "base_uri": "https://localhost:8080/"
        },
        "id": "5_O5uC7GfRkX",
        "outputId": "24d91939-a40b-43eb-d5a1-57b2ffcd996c"
      },
      "source": [
        "print(d)"
      ],
      "execution_count": 63,
      "outputs": [
        {
          "output_type": "stream",
          "text": [
            "[280 341 215 580 357 417 328 245 417 532 456 623 528 495 464 525 222 645\n",
            " 339 313 215 563 656 653 494 437 234 532 325 264 506 276 528 433 697 331\n",
            " 683 440 509 458 236 644 226 300 663 392 584 657 208 435 524 416 517 242\n",
            " 302 556 346 675 311 217 675 589 233 206 310 321 590 599 448 633 668 596\n",
            " 609 586 468 546 683 514 303 366 217 697 644 226 263 310 604 557 625 668\n",
            " 331 484 629 272 657 375 276 474 257 258 537 497 669 297 535 548 343 371\n",
            " 392 689 273 429 438 475 436 324 305 513 440 536 296 275 430 476 418 449\n",
            " 676 493 395 539 256 563 442 480 643 288 315 369 308 597 497 401 310 427\n",
            " 489 461 441 655 263 412 573 681 443 621 494 537 242 632 510 556 256 636\n",
            " 245 544 263 615 445 432 534 636 237 253 495 538 530 604 486 412 568 490\n",
            " 436 461 546 413 221 300 546 300 234 688 357 650 284 342 336 648 329 374\n",
            " 382 445]\n"
          ],
          "name": "stdout"
        }
      ]
    },
    {
      "cell_type": "code",
      "metadata": {
        "id": "kB9jNu0OfT7Q"
      },
      "source": [
        "LpUrban=cos(f,loc1,tower,user,d)\r\n",
        "LpOpen=cos(f,loc2,tower,user,d)\r\n",
        "LpSuburban=cos(f,loc3,tower,user,d)"
      ],
      "execution_count": 64,
      "outputs": []
    },
    {
      "cell_type": "code",
      "metadata": {
        "colab": {
          "base_uri": "https://localhost:8080/"
        },
        "id": "a-PkNSClffVO",
        "outputId": "aa549f8c-8896-4493-e336-5fb306d3e5b7"
      },
      "source": [
        "print(LpUrban, LpOpen, LpSuburban)"
      ],
      "execution_count": 65,
      "outputs": [
        {
          "output_type": "stream",
          "text": [
            "[174.3803199  177.15661694 170.65941807 184.63846041 177.80251748\n",
            " 179.99082068 176.60910082 172.49936498 179.99082068 183.42162621\n",
            " 181.25022312 185.64588579 183.31531448 182.40620954 181.49520734\n",
            " 183.2350508  171.11073201 186.13473173 177.07375648 175.94971816\n",
            " 170.65941807 184.21941631 186.37293666 186.30837014 182.37772371\n",
            " 180.65071828 171.85228415 183.42162621 176.47967047 173.55147864\n",
            " 182.71580964 174.17763673 183.31531448 180.52118874 187.22690949\n",
            " 176.73735273 186.94109196 180.74708972 182.79907828 181.31186977\n",
            " 171.97216775 186.11287566 171.36227866 175.35216988 186.52245082\n",
            " 179.11994775 184.73527342 186.39439323 170.19316433 180.5861024\n",
            " 183.20819429 179.95700017 183.01875116 172.32581571 175.44576648\n",
            " 184.04317869 177.36166041 186.77512553 175.85942145 170.78984712\n",
            " 186.77512553 184.85536142 171.79195756 170.05706436 175.81405511\n",
            " 176.30522567 184.87925665 185.09250907 181.00090267 185.87019368\n",
            " 186.62828331 185.02178304 185.32573025 184.78343154 181.61611999\n",
            " 183.78752308 186.94109196 182.93677476 175.4923326  178.15323031\n",
            " 170.78984712 187.22690949 186.11287566 171.36227866 173.49802037\n",
            " 175.81405511 185.20960232 184.0684909  185.69103403 186.62828331\n",
            " 176.73735273 182.08965155 185.78089869 173.97199457 186.39439323\n",
            " 178.49542295 174.17763673 181.79556493 173.17293892 173.22764283\n",
            " 183.5533974  182.46300896 186.64935472 175.21059846 183.50083675\n",
            " 183.83902675 177.23899284 178.34436265 179.11994775 187.06429599\n",
            " 174.02368724 180.39045706 180.68291541 181.82525143 180.61844739\n",
            " 176.43626138 175.58500555 182.90934294 180.74708972 183.52714159\n",
            " 175.16309002 174.12650695 180.42325391 181.85487549 180.02456019\n",
            " 181.03231012 186.79597859 182.34918016 179.22734017 183.60576266\n",
            " 173.11802175 184.21941631 180.81097299 181.97275265 186.09098562\n",
            " 174.77714157 176.03943972 178.26822064 175.72288173 185.04539786\n",
            " 182.46300896 179.43969953 175.81405511 180.3246334  182.23442403\n",
            " 181.40383683 180.77906757 186.35144736 173.49802037 179.8209002\n",
            " 184.46741986 186.89978332 180.84280631 185.60059238 182.37772371\n",
            " 183.5533974  172.32581571 185.84792294 182.82672547 184.04317869\n",
            " 173.11802175 185.9367954  172.49936498 183.73583041 173.49802037\n",
            " 185.46383172 180.90625794 180.48861939 183.4744827  185.9367954\n",
            " 172.03172909 172.9519738  182.40620954 183.57960436 183.36857064\n",
            " 185.20960232 182.14773921 179.8209002  184.34396388 182.26320082\n",
            " 180.61844739 181.40383683 183.78752308 179.85504867 171.04713715\n",
            " 175.35216988 183.78752308 175.35216988 171.85228415 187.04383667\n",
            " 177.80251748 186.24350631 174.58012804 177.19786511 176.94854466\n",
            " 186.20009722 176.65198134 178.45780947 178.75594203 180.90625794] [171.21137746 173.9876745  167.49047562 181.46951796 174.63357504\n",
            " 176.82187824 173.44015838 169.33042254 176.82187824 180.25268377\n",
            " 178.08128067 182.47694335 180.14637203 179.23726709 178.32626489\n",
            " 180.06610836 167.94178957 182.96578929 173.90481404 172.78077571\n",
            " 167.49047562 181.05047387 183.20399422 183.1394277  179.20878127\n",
            " 177.48177583 168.68334171 180.25268377 173.31072803 170.3825362\n",
            " 179.5468672  171.00869428 180.14637203 177.3522463  184.05796704\n",
            " 173.56841029 183.77214952 177.57814728 179.63013584 178.14292732\n",
            " 168.8032253  182.94393321 168.19333621 172.18322743 183.35350838\n",
            " 175.95100531 181.56633097 183.22545079 167.02422189 177.41715995\n",
            " 180.03925184 176.78805773 179.84980871 169.15687327 172.27682404\n",
            " 180.87423625 174.19271797 183.60618309 172.69047901 167.62090468\n",
            " 183.60618309 181.68641898 168.62301511 166.88812191 172.64511267\n",
            " 173.13628323 181.71031421 181.92356662 177.83196022 182.70125123\n",
            " 183.45934086 181.8528406  182.1567878  181.6144891  178.44717754\n",
            " 180.61858064 183.77214952 179.76783232 172.32339016 174.98428787\n",
            " 167.62090468 184.05796704 182.94393321 168.19333621 170.32907792\n",
            " 172.64511267 182.04065988 180.89954845 182.52209158 183.45934086\n",
            " 173.56841029 178.92070911 182.61195624 170.80305213 183.22545079\n",
            " 175.3264805  171.00869428 178.62662249 170.00399648 170.05870038\n",
            " 180.38445496 179.29406652 183.48041228 172.04165601 180.33189431\n",
            " 180.67008431 174.07005039 175.17542021 175.95100531 183.89535355\n",
            " 170.8547448  177.22151462 177.51397296 178.65630898 177.44950494\n",
            " 173.26731894 172.41606311 179.74040049 177.57814728 180.35819915\n",
            " 171.99414758 170.95756451 177.25431146 178.68593305 176.85561775\n",
            " 177.86336768 183.62703615 179.18023772 176.05839773 180.43682021\n",
            " 169.9490793  181.05047387 177.64203055 178.8038102  182.92204318\n",
            " 171.60819912 172.87049728 175.0992782  172.55393929 181.87645542\n",
            " 179.29406652 176.27075709 172.64511267 177.15569096 179.06548158\n",
            " 178.23489438 177.61012513 183.18250491 170.32907792 176.65195775\n",
            " 181.29847742 183.73084087 177.67386387 182.43164994 179.20878127\n",
            " 180.38445496 169.15687327 182.6789805  179.65778303 180.87423625\n",
            " 169.9490793  182.76785295 169.33042254 180.56688796 170.32907792\n",
            " 182.29488928 177.7373155  177.31967695 180.30554025 182.76785295\n",
            " 168.86278665 169.78303136 179.23726709 180.41066192 180.19962819\n",
            " 182.04065988 178.97879677 176.65195775 181.17502143 179.09425838\n",
            " 177.44950494 178.23489438 180.61858064 176.68610622 167.87819471\n",
            " 172.18322743 180.61858064 172.18322743 168.68334171 183.87489423\n",
            " 174.63357504 183.07456387 171.41118559 174.02892266 173.77960221\n",
            " 183.03115478 173.48303889 175.28886703 175.58699959 177.7373155 ] [170.8127778  173.58907484 167.09187596 181.0709183  174.23497538\n",
            " 176.42327858 173.04155872 168.93182288 176.42327858 179.8540841\n",
            " 177.68268101 182.07834369 179.74777237 178.83866743 177.92766523\n",
            " 179.66750869 167.54318991 182.56718963 173.50621438 172.38217605\n",
            " 167.09187596 180.65187421 182.80539456 182.74082804 178.81018161\n",
            " 177.08317617 168.28474204 179.8540841  172.91212837 169.98393654\n",
            " 179.14826754 170.61009462 179.74777237 176.95364664 183.65936738\n",
            " 173.16981063 183.37354986 177.17954762 179.23153618 177.74432766\n",
            " 168.40462564 182.54533355 167.79473655 171.78462777 182.95490872\n",
            " 175.55240565 181.16773131 182.82685113 166.62562223 177.01856029\n",
            " 179.64065218 176.38945806 179.45120905 168.75827361 171.87822438\n",
            " 180.47563659 173.79411831 183.20758343 172.29187935 167.22230502\n",
            " 183.20758343 181.28781931 168.22441545 166.48952225 172.24651301\n",
            " 172.73768357 181.31171455 181.52496696 177.43336056 182.30265157\n",
            " 183.0607412  181.45424093 181.75818814 181.21588943 178.04857788\n",
            " 180.21998098 183.37354986 179.36923265 171.9247905  174.5856882\n",
            " 167.22230502 183.65936738 182.54533355 167.79473655 169.93047826\n",
            " 172.24651301 181.64206022 180.50094879 182.12349192 183.0607412\n",
            " 173.16981063 178.52210945 182.21335658 170.40445247 182.82685113\n",
            " 174.92788084 170.61009462 178.22802283 169.60539682 169.66010072\n",
            " 179.9858553  178.89546686 183.08181262 171.64305635 179.93329465\n",
            " 180.27148464 173.67145073 174.77682055 175.55240565 183.49675389\n",
            " 170.45614514 176.82291496 177.1153733  178.25770932 177.05090528\n",
            " 172.86871928 172.01746345 179.34180083 177.17954762 179.95959949\n",
            " 171.59554792 170.55896485 176.8557118  178.28733339 176.45701809\n",
            " 177.46476802 183.22843649 178.78163805 175.65979807 180.03822055\n",
            " 169.55047964 180.65187421 177.24343089 178.40521054 182.52344351\n",
            " 171.20959946 172.47189761 174.70067854 172.15533963 181.47785576\n",
            " 178.89546686 175.87215743 172.24651301 176.7570913  178.66688192\n",
            " 177.83629472 177.21152547 182.78390525 169.93047826 176.25335809\n",
            " 180.89987776 183.33224121 177.27526421 182.03305028 178.81018161\n",
            " 179.9858553  168.75827361 182.28038084 179.25918336 180.47563659\n",
            " 169.55047964 182.36925329 168.93182288 180.1682883  169.93047826\n",
            " 181.89628962 177.33871583 176.92107729 179.90694059 182.36925329\n",
            " 168.46418699 169.3844317  178.83866743 180.01206226 179.80102853\n",
            " 181.64206022 178.58019711 176.25335809 180.77642177 178.69565872\n",
            " 177.05090528 177.83629472 180.21998098 176.28750656 167.47959505\n",
            " 171.78462777 180.21998098 171.78462777 168.28474204 183.47629457\n",
            " 174.23497538 182.6759642  171.01258593 173.630323   173.38100255\n",
            " 182.63255512 173.08443923 174.89026737 175.18839993 177.33871583]\n"
          ],
          "name": "stdout"
        }
      ]
    },
    {
      "cell_type": "code",
      "metadata": {
        "colab": {
          "base_uri": "https://localhost:8080/",
          "height": 278
        },
        "id": "NWtlC7PdfuF5",
        "outputId": "c536af01-c8c0-4c10-93f2-bdd947d5b73d"
      },
      "source": [
        "plt.figure()\r\n",
        "plt.plot(d,LpUrban)\r\n",
        "plt.plot(d,LpOpen)\r\n",
        "plt.plot(d,LpSuburban)\r\n",
        "plt.xlabel('Jarak (m)')\r\n",
        "plt.ylabel('Path Loss (dB)')\r\n",
        "plt.show()"
      ],
      "execution_count": 66,
      "outputs": [
        {
          "output_type": "display_data",
          "data": {
            "image/png": "[encoded data removed]",
            "text/plain": [
              "<Figure size 432x288 with 1 Axes>"
            ]
          },
          "metadata": {
            "tags": [],
            "needs_background": "light"
          }
        }
      ]
    },
    {
      "cell_type": "code",
      "metadata": {
        "id": "t1MXFWVkf43Z"
      },
      "source": [
        "d_sort=d[np.argsort(d)]\r\n",
        "Urban_sort1=LpUrban[np.argsort(d)]\r\n",
        "Open_sort2=LpOpen[np.argsort(d)]\r\n",
        "Suburban_sort3=LpSuburban[np.argsort(d)]"
      ],
      "execution_count": 67,
      "outputs": []
    },
    {
      "cell_type": "code",
      "metadata": {
        "colab": {
          "base_uri": "https://localhost:8080/",
          "height": 295
        },
        "id": "WnJ4fSEuf99L",
        "outputId": "dfe56373-b7c1-4382-97d6-bef906a7a77a"
      },
      "source": [
        "plt.figure()\r\n",
        "plt.title('FREKUENSI 1800MHz (URBAN, OPEN, SUBURBAN)')\r\n",
        "plt.plot(d_sort,Urban_sort1, label='Urban')\r\n",
        "plt.plot(d_sort,Open_sort2, label=\"Open\")\r\n",
        "plt.plot(d_sort,Suburban_sort3, label=\"Suburban\")\r\n",
        "plt.legend()\r\n",
        "plt.xlabel('Jarak (m)')\r\n",
        "plt.ylabel('Path Loss (dB)')\r\n",
        "plt.show()"
      ],
      "execution_count": 68,
      "outputs": [
        {
          "output_type": "display_data",
          "data": {
            "image/png": "[encoded data removed]",
            "text/plain": [
              "<Figure size 432x288 with 1 Axes>"
            ]
          },
          "metadata": {
            "tags": [],
            "needs_background": "light"
          }
        }
      ]
    },
    {
      "cell_type": "markdown",
      "metadata": {
        "id": "6TrGZpCYQbZl"
      },
      "source": [
        "# **Grafik Model Urban pada Frekuensi 700MHz, 900MHz, dan 1800MHz**"
      ]
    },
    {
      "cell_type": "code",
      "metadata": {
        "id": "EJUGiqITQfx5"
      },
      "source": [
        "def cos(frek,tipe,ht,hr,d):\n",
        "    if frek in range(150,1501):\n",
        "        Ca=69.55\n",
        "        Cb=26.16\n",
        "    elif frek in range(1501,2001):\n",
        "        Ca=46.3\n",
        "        Cb=33.9\n",
        "    \n",
        "    if tipe=='urban' :\n",
        "        Cm=0\n",
        "    elif tipe=='suburban' :\n",
        "        Cm= -2*((np.log10((frek/28)**2))-5.4)\n",
        "    elif tipe=='open' :\n",
        "        Cm= -4.78*(np.log10(frek))+18.33*(np.log10(frek))-40.94\n",
        "    else :\n",
        "        Cm='tipe salah'\n",
        "    \n",
        "    ahr = (1.1*np.log10(frek)-0.7)*hr-(1.56*np.log10(frek)-1.8)\n",
        "    Lp = Ca+(Cb*np.log10(frek))-(13.83*np.log(ht))-ahr+((44.9-6.55*np.log10(ht))*np.log10(d))-Cm\n",
        "    \n",
        "    return Lp"
      ],
      "execution_count": 69,
      "outputs": []
    },
    {
      "cell_type": "code",
      "metadata": {
        "id": "53d-Ye-LQlXh"
      },
      "source": [
        "f1=700 #MHz\n",
        "f2=900 #MHz\n",
        "f3=1800 #MHz\n",
        "loc='urban'\n",
        "tower=80 #m\n",
        "user=1.5 #m\n",
        "dmin=200 #m\n",
        "dmax=700 #m\n",
        "N=200 #titik\n",
        "d=np.random.randint(dmin,dmax,N)"
      ],
      "execution_count": 70,
      "outputs": []
    },
    {
      "cell_type": "code",
      "metadata": {
        "colab": {
          "base_uri": "https://localhost:8080/"
        },
        "id": "qhdPl7JETiqL",
        "outputId": "d27762a4-7620-4d9a-be32-8faa05ed0c5c"
      },
      "source": [
        "print(d)"
      ],
      "execution_count": 71,
      "outputs": [
        {
          "output_type": "stream",
          "text": [
            "[561 677 252 476 434 620 651 380 323 405 423 665 452 689 668 257 683 438\n",
            " 452 367 612 460 226 281 636 262 485 227 499 205 610 638 464 298 379 539\n",
            " 695 404 545 250 467 271 206 215 365 403 484 383 287 678 614 294 298 643\n",
            " 273 554 392 373 543 681 637 638 354 695 518 623 449 397 670 620 231 657\n",
            " 696 525 439 629 256 416 284 491 456 658 675 435 546 495 466 606 483 311\n",
            " 550 695 293 625 212 610 525 545 218 251 203 624 329 232 591 405 270 383\n",
            " 664 676 268 200 256 480 505 509 354 377 565 258 294 652 639 512 548 669\n",
            " 622 315 468 403 479 630 290 403 695 544 334 460 303 378 423 381 325 336\n",
            " 454 408 583 459 341 654 421 301 221 389 489 692 603 408 665 292 408 563\n",
            " 367 498 662 565 474 418 559 309 441 664 419 256 571 694 523 643 391 258\n",
            " 365 448 500 392 311 261 451 510 285 498 685 202 341 395 595 572 529 699\n",
            " 557 489]\n"
          ],
          "name": "stdout"
        }
      ]
    },
    {
      "cell_type": "code",
      "metadata": {
        "id": "IgW6t5oSRMBQ"
      },
      "source": [
        "LpUrban700=cos(f1,loc,tower,user,d)\r\n",
        "LpUrban900=cos(f2,loc,tower,user,d)\r\n",
        "LpUrban1800=cos(f3,loc,tower,user,d)"
      ],
      "execution_count": 72,
      "outputs": []
    },
    {
      "cell_type": "code",
      "metadata": {
        "id": "rIFJSsdSTn-6",
        "colab": {
          "base_uri": "https://localhost:8080/"
        },
        "outputId": "5f53674f-9bc7-4114-ea05-17eabe5470fd"
      },
      "source": [
        "print(LpUrban700, LpUrban900, LpUrban1800)"
      ],
      "execution_count": 73,
      "outputs": [
        {
          "output_type": "stream",
          "text": [
            "[171.53022981 174.17774333 160.25712916 169.215818   167.91462547\n",
            " 172.93883345 173.6261033  166.04294086 163.75366062 166.94045696\n",
            " 167.55299858 173.92582179 168.487057   174.4252385  173.98922581\n",
            " 160.53388143 174.30203447 168.04385791 168.487057   165.55260732\n",
            " 172.75589273 168.73419031 158.72322116 161.79148078 173.2977379\n",
            " 160.80530095 169.47966783 158.78541216 169.88052278 157.34946056\n",
            " 172.7097839  173.34196474 168.85614984 162.61888971 166.00582296\n",
            " 170.96670516 174.54737427 166.90563312 171.12264296 160.14488762\n",
            " 168.94693149 161.28105401 157.41800686 158.02036057 165.47563315\n",
            " 166.87072297 169.45059406 166.15371132 162.08908841 174.19853483\n",
            " 172.80185113 162.42853225 162.61888971 173.45192813 161.38462975\n",
            " 171.35335993 166.48089026 165.7810378  171.07085527 174.26072582\n",
            " 173.31986868 173.34196474 165.04458808 174.54737427 170.40691345\n",
            " 173.0068283  168.39325263 166.65942544 174.03133717 172.93883345\n",
            " 159.03146623 173.75533574 174.56762767 170.59599331 168.07598161\n",
            " 173.14184119 160.47896425 167.31794267 161.94107054 169.65286146\n",
            " 168.61116562 173.77675968 174.13606804 167.9470449  171.14846559\n",
            " 169.76715204 168.9167359  172.61711095 169.42146015 163.22036396\n",
            " 171.2512853  174.54737427 162.38053821 173.05197653 157.82242424\n",
            " 172.7097839  170.59599331 171.12264296 158.21555405 160.20112018\n",
            " 157.21135909 173.0294205  164.01292384 159.092314   172.26405393\n",
            " 166.94045696 161.22897913 166.15371132 173.90462353 174.1569211\n",
            " 161.12424826 157.00163455 160.47896425 169.33369515 170.04888619\n",
            " 170.16002079 165.04458808 165.93129243 171.63031007 160.58858533\n",
            " 162.42853225 173.64772454 173.3640262  170.24280009 171.19996926\n",
            " 174.01029723 172.9841998  163.40038223 168.97706249 166.87072297\n",
            " 169.30431821 173.16421806 162.23556707 166.87072297 174.54737427\n",
            " 171.09677291 164.22538997 168.73419031 162.85327511 165.96860698\n",
            " 167.55299858 166.07996122 163.84061298 164.30948716 168.54924799\n",
            " 167.0444149  172.07207498 168.70353472 164.51755945 173.69086772\n",
            " 167.48623903 162.75998842 158.40807966 166.37267279 169.59536653\n",
            " 174.48643876 172.54720392 167.0444149  173.92582179 162.33238008\n",
            " 167.0444149  171.58035882 165.55260732 169.85226552 173.86213108\n",
            " 171.63031007 169.15650744 167.3855027  171.47992176 163.12948469\n",
            " 168.14001008 173.90462353 167.41916158 160.47896425 171.77910974\n",
            " 174.52709171 170.54222897 173.45192813 166.44491007 160.58858533\n",
            " 165.47563315 168.36184517 169.90872346 166.48089026 163.22036396\n",
            " 160.75143382 168.45585823 170.18766798 161.99058285 169.85226552\n",
            " 174.34322233 157.14179728 164.51755945 166.58828268 172.35907107\n",
            " 171.80375758 170.70291023 174.62821373 171.4294334  169.59536653] [174.37562613 177.02313965 163.10252547 172.06121432 170.76002179\n",
            " 175.78422977 176.47149961 168.88833718 166.59905694 169.78585328\n",
            " 170.39839489 176.7712181  171.33245332 177.27063481 176.83462213\n",
            " 163.37927775 177.14743079 170.88925423 171.33245332 168.39800364\n",
            " 175.60128905 171.57958663 161.56861748 164.63687709 176.14313422\n",
            " 163.65069727 172.32506415 161.63080847 172.7259191  160.19485688\n",
            " 175.55518021 176.18736106 171.70154616 165.46428602 168.85121927\n",
            " 173.81210148 177.39277059 169.75102943 173.96803928 162.99028394\n",
            " 171.79232781 164.12645032 160.26340318 160.86575689 168.32102947\n",
            " 169.71611929 172.29599038 168.99910764 164.93448473 177.04393115\n",
            " 175.64724745 165.27392857 165.46428602 176.29732444 164.23002607\n",
            " 174.19875625 169.32628658 168.62643412 173.91625158 177.10612214\n",
            " 176.165265   176.18736106 167.8899844  177.39277059 173.25230977\n",
            " 175.85222462 171.23864895 169.50482176 176.87673349 175.78422977\n",
            " 161.87686255 176.60073206 177.41302399 173.44138962 170.92137793\n",
            " 175.98723751 163.32436057 170.16333899 164.78646686 172.49825778\n",
            " 171.45656194 176.622156   176.98146436 170.79244122 173.99386191\n",
            " 172.61254836 171.76213222 175.46250726 172.26685647 166.06576028\n",
            " 174.09668161 177.39277059 165.22593453 175.89737285 160.66782055\n",
            " 175.55518021 173.44138962 173.96803928 161.06095037 163.0465165\n",
            " 160.0567554  175.87481682 166.85832016 161.93771032 175.10945025\n",
            " 169.78585328 164.07437545 168.99910764 176.75001985 177.00231742\n",
            " 163.96964458 159.84703087 163.32436057 172.17909147 172.8942825\n",
            " 173.00541711 167.8899844  168.77668874 174.47570639 163.43398165\n",
            " 165.27392857 176.49312086 176.20942252 173.08819641 174.04536557\n",
            " 176.85569354 175.82959612 166.24577854 171.82245881 169.71611929\n",
            " 172.14971453 176.00961438 165.08096339 169.71611929 177.39277059\n",
            " 173.94216923 167.07078629 171.57958663 165.69867142 168.8140033\n",
            " 170.39839489 168.92535754 166.68600929 167.15488348 171.39464431\n",
            " 169.88981122 174.9174713  171.54893104 167.36295577 176.53626404\n",
            " 170.33163535 165.60538474 161.25347598 169.21806911 172.44076285\n",
            " 177.33183507 175.39260023 169.88981122 176.7712181  165.1777764\n",
            " 169.88981122 174.42575514 168.39800364 172.69766184 176.7075274\n",
            " 174.47570639 172.00190375 170.23089901 174.32531808 165.97488101\n",
            " 170.9854064  176.75001985 170.2645579  163.32436057 174.62450606\n",
            " 177.37248802 173.38762529 176.29732444 169.29030638 163.43398165\n",
            " 168.32102947 171.20724149 172.75411978 169.32628658 166.06576028\n",
            " 163.59683014 171.30125455 173.03306429 164.83597917 172.69766184\n",
            " 177.18861864 159.9871936  167.36295577 169.433679   175.20446739\n",
            " 174.6491539  173.54830655 177.47361005 174.27482972 172.44076285] [184.1692873  186.81680082 172.89618665 181.85487549 180.55368296\n",
            " 185.57789095 186.26516079 178.68199836 176.39271811 179.57951445\n",
            " 180.19205607 186.56487928 181.12611449 187.06429599 186.62828331\n",
            " 173.17293892 186.94109196 180.68291541 181.12611449 178.19166482\n",
            " 185.39495023 181.37324781 171.36227866 174.43053827 185.9367954\n",
            " 173.44435845 182.11872533 171.42446965 182.51958027 169.98851806\n",
            " 185.34884139 185.98102224 181.49520734 175.2579472  178.64488045\n",
            " 183.60576266 187.18643176 179.54469061 183.76170046 172.78394512\n",
            " 181.58598899 173.9201115  170.05706436 170.65941807 178.11469065\n",
            " 179.50978046 182.08965155 178.79276882 174.72814591 186.83759232\n",
            " 185.44090863 175.06758974 175.2579472  186.09098562 174.02368724\n",
            " 183.99241742 179.11994775 178.42009529 183.70991276 186.89978332\n",
            " 185.95892618 185.98102224 177.68364557 187.18643176 183.04597095\n",
            " 185.64588579 181.03231012 179.29848294 186.67039466 185.57789095\n",
            " 171.67052372 186.39439323 187.20668516 183.2350508  180.71503911\n",
            " 185.78089869 173.11802175 179.95700017 174.58012804 182.29191895\n",
            " 181.25022312 186.41581717 186.77512553 180.5861024  183.78752308\n",
            " 182.40620954 181.5557934  185.25616844 182.06051765 175.85942145\n",
            " 183.89034279 187.18643176 175.0195957  185.69103403 170.46148173\n",
            " 185.34884139 183.2350508  183.76170046 170.85461155 172.84017768\n",
            " 169.85041658 185.668478   176.65198134 171.7313715  184.90311142\n",
            " 179.57951445 173.86803663 178.79276882 186.54368103 186.79597859\n",
            " 173.76330575 169.64069205 173.11802175 181.97275265 182.68794368\n",
            " 182.79907828 177.68364557 178.57034992 184.26936756 173.22764283\n",
            " 175.06758974 186.28678204 186.0030837  182.88185758 183.83902675\n",
            " 186.64935472 185.62325729 176.03943972 181.61611999 179.50978046\n",
            " 181.94337571 185.80327556 174.87462457 179.50978046 187.18643176\n",
            " 183.73583041 176.86444747 181.37324781 175.4923326  178.60766448\n",
            " 180.19205607 178.71901871 176.47967047 176.94854466 181.18830549\n",
            " 179.6834724  184.71113247 181.34259222 177.15661694 186.32992522\n",
            " 180.12529653 175.39904592 171.04713715 179.01173029 182.23442403\n",
            " 187.12549625 185.18626141 179.6834724  186.56487928 174.97143758\n",
            " 179.6834724  184.21941631 178.19166482 182.49132302 186.50118857\n",
            " 184.26936756 181.79556493 180.02456019 184.11897926 175.76854219\n",
            " 180.77906757 186.54368103 180.05821908 173.11802175 184.41816723\n",
            " 187.1661492  183.18128647 186.09098562 179.08396756 173.22764283\n",
            " 178.11469065 181.00090267 182.54778096 179.11994775 175.85942145\n",
            " 173.39049132 181.09491573 182.82672547 174.62964035 182.49132302\n",
            " 186.98227982 169.78085477 177.15661694 179.22734017 184.99812856\n",
            " 184.44281507 183.34196773 187.26727123 184.0684909  182.23442403]\n"
          ],
          "name": "stdout"
        }
      ]
    },
    {
      "cell_type": "code",
      "metadata": {
        "colab": {
          "base_uri": "https://localhost:8080/",
          "height": 278
        },
        "id": "o4qflQDdRXSo",
        "outputId": "f4c49302-0cab-4134-89b4-53633dcbd7ae"
      },
      "source": [
        "plt.figure()\n",
        "plt.plot(d,LpUrban700)\n",
        "plt.plot(d,LpUrban900)\n",
        "plt.plot(d,LpUrban1800)\n",
        "plt.xlabel('Jarak (m)')\n",
        "plt.ylabel('Path Loss (dB)')\n",
        "plt.show()"
      ],
      "execution_count": 74,
      "outputs": [
        {
          "output_type": "display_data",
          "data": {
            "image/png": "[encoded data removed]",
            "text/plain": [
              "<Figure size 432x288 with 1 Axes>"
            ]
          },
          "metadata": {
            "tags": [],
            "needs_background": "light"
          }
        }
      ]
    },
    {
      "cell_type": "code",
      "metadata": {
        "id": "MbvWh9qIRkKJ"
      },
      "source": [
        "d_sort=d[np.argsort(d)]\n",
        "Urban_sort1=LpUrban700[np.argsort(d)]\n",
        "Urban_sort2=LpUrban900[np.argsort(d)]\n",
        "Urban_sort3=LpUrban1800[np.argsort(d)]"
      ],
      "execution_count": 75,
      "outputs": []
    },
    {
      "cell_type": "code",
      "metadata": {
        "colab": {
          "base_uri": "https://localhost:8080/",
          "height": 295
        },
        "id": "79YaOB0uSBn6",
        "outputId": "c3c4b9c5-34de-4648-b70a-ee5bb32e97c6"
      },
      "source": [
        "plt.figure()\n",
        "plt.plot(d_sort,Urban_sort1, label='700MHz')\n",
        "plt.plot(d_sort,Urban_sort2, label='900MHz')\n",
        "plt.plot(d_sort,Urban_sort3, label='1800MHz')\n",
        "plt.legend()\n",
        "plt.title('MODEL URBAN (700MHz, 900MHz, 1800MHz)')\n",
        "plt.xlabel('Jarak (m)')\n",
        "plt.ylabel('Path Loss (dB)')\n",
        "plt.show()"
      ],
      "execution_count": 76,
      "outputs": [
        {
          "output_type": "display_data",
          "data": {
            "image/png": "[encoded data removed]",
            "text/plain": [
              "<Figure size 432x288 with 1 Axes>"
            ]
          },
          "metadata": {
            "tags": [],
            "needs_background": "light"
          }
        }
      ]
    },
    {
      "cell_type": "code",
      "metadata": {
        "id": "Bslo_hoFSFZD"
      },
      "source": [
        ""
      ],
      "execution_count": 76,
      "outputs": []
    }
  ]
}