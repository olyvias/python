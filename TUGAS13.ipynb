{
  "nbformat": 4,
  "nbformat_minor": 0,
  "metadata": {
    "colab": {
      "name": "TUGAS13.ipynb",
      "provenance": [],
      "mount_file_id": "1xgrSoKOJY0E5nJD4F5YLsJDW0g_cToPF",
      "authorship_tag": "ABX9TyO4PMkj38LYHCLRjuxTfAFO",
      "include_colab_link": true
    },
    "kernelspec": {
      "name": "python3",
      "display_name": "Python 3"
    }
  },
  "cells": [
    {
      "cell_type": "markdown",
      "metadata": {
        "id": "view-in-github",
        "colab_type": "text"
      },
      "source": [
        "<a href=\"https://colab.research.google.com/github/olyvias/python/blob/main/TUGAS13.ipynb\" target=\"_parent\"><img src=\"https://colab.research.google.com/assets/colab-badge.svg\" alt=\"Open In Colab\"/></a>"
      ]
    },
    {
      "cell_type": "markdown",
      "metadata": {
        "id": "FQC_AUmtBbmk"
      },
      "source": [
        "# Numpy dan Matplotlib (Path Loss Simulation)\n",
        "## OLYVIA FERNANDA SOEDRADJAT / 1101208479 / TTX-44-01"
      ]
    },
    {
      "cell_type": "code",
      "metadata": {
        "id": "_a_N7F-JBnG8"
      },
      "source": [
        "import numpy as np\n",
        "import matplotlib.pyplot as plt\n"
      ],
      "execution_count": 1,
      "outputs": []
    },
    {
      "cell_type": "code",
      "metadata": {
        "colab": {
          "base_uri": "https://localhost:8080/"
        },
        "id": "p2IhgozVHEBy",
        "outputId": "3dda1066-31f9-4d3a-c4d9-728feac8bfd0"
      },
      "source": [
        "np.zeros(4)"
      ],
      "execution_count": 2,
      "outputs": [
        {
          "output_type": "execute_result",
          "data": {
            "text/plain": [
              "array([0., 0., 0., 0.])"
            ]
          },
          "metadata": {
            "tags": []
          },
          "execution_count": 2
        }
      ]
    },
    {
      "cell_type": "code",
      "metadata": {
        "colab": {
          "base_uri": "https://localhost:8080/"
        },
        "id": "QtGgWIULHOzi",
        "outputId": "c89b8630-519a-40ae-b048-e736e9bf494b"
      },
      "source": [
        "np.ones(3)"
      ],
      "execution_count": 3,
      "outputs": [
        {
          "output_type": "execute_result",
          "data": {
            "text/plain": [
              "array([1., 1., 1.])"
            ]
          },
          "metadata": {
            "tags": []
          },
          "execution_count": 3
        }
      ]
    },
    {
      "cell_type": "markdown",
      "metadata": {
        "id": "lwGp9q-HHiEb"
      },
      "source": [
        "**(Baris,Kolom)**"
      ]
    },
    {
      "cell_type": "code",
      "metadata": {
        "colab": {
          "base_uri": "https://localhost:8080/"
        },
        "id": "fSMPTFUeHXeT",
        "outputId": "f8ce4791-64a8-4a3a-cbb9-4c264510b056"
      },
      "source": [
        "np.zeros((3,4))"
      ],
      "execution_count": 4,
      "outputs": [
        {
          "output_type": "execute_result",
          "data": {
            "text/plain": [
              "array([[0., 0., 0., 0.],\n",
              "       [0., 0., 0., 0.],\n",
              "       [0., 0., 0., 0.]])"
            ]
          },
          "metadata": {
            "tags": []
          },
          "execution_count": 4
        }
      ]
    },
    {
      "cell_type": "code",
      "metadata": {
        "colab": {
          "base_uri": "https://localhost:8080/"
        },
        "id": "fe_utTgWHge9",
        "outputId": "7165ea82-1b22-4ef9-a237-5e08d161874d"
      },
      "source": [
        "np.ones((5,2))"
      ],
      "execution_count": 5,
      "outputs": [
        {
          "output_type": "execute_result",
          "data": {
            "text/plain": [
              "array([[1., 1.],\n",
              "       [1., 1.],\n",
              "       [1., 1.],\n",
              "       [1., 1.],\n",
              "       [1., 1.]])"
            ]
          },
          "metadata": {
            "tags": []
          },
          "execution_count": 5
        }
      ]
    },
    {
      "cell_type": "code",
      "metadata": {
        "colab": {
          "base_uri": "https://localhost:8080/"
        },
        "id": "w7tGab0KHpON",
        "outputId": "ed5a4559-8a42-44bd-cc01-80d6489cd228"
      },
      "source": [
        "np.arange(10)"
      ],
      "execution_count": 6,
      "outputs": [
        {
          "output_type": "execute_result",
          "data": {
            "text/plain": [
              "array([0, 1, 2, 3, 4, 5, 6, 7, 8, 9])"
            ]
          },
          "metadata": {
            "tags": []
          },
          "execution_count": 6
        }
      ]
    },
    {
      "cell_type": "code",
      "metadata": {
        "colab": {
          "base_uri": "https://localhost:8080/"
        },
        "id": "KWuV08zbHyNX",
        "outputId": "2e88954b-6619-4cf9-96a1-22f66c032f20"
      },
      "source": [
        "np.arange(2,10)"
      ],
      "execution_count": 7,
      "outputs": [
        {
          "output_type": "execute_result",
          "data": {
            "text/plain": [
              "array([2, 3, 4, 5, 6, 7, 8, 9])"
            ]
          },
          "metadata": {
            "tags": []
          },
          "execution_count": 7
        }
      ]
    },
    {
      "cell_type": "code",
      "metadata": {
        "colab": {
          "base_uri": "https://localhost:8080/"
        },
        "id": "Ohl_udXnH-Oz",
        "outputId": "68de10a0-fc83-49e4-c64a-ba35a652c50d"
      },
      "source": [
        "np.arange(3,47,4)"
      ],
      "execution_count": 8,
      "outputs": [
        {
          "output_type": "execute_result",
          "data": {
            "text/plain": [
              "array([ 3,  7, 11, 15, 19, 23, 27, 31, 35, 39, 43])"
            ]
          },
          "metadata": {
            "tags": []
          },
          "execution_count": 8
        }
      ]
    },
    {
      "cell_type": "code",
      "metadata": {
        "id": "OQ72u2w4INT5"
      },
      "source": [
        ""
      ],
      "execution_count": 8,
      "outputs": []
    },
    {
      "cell_type": "markdown",
      "metadata": {
        "id": "IdF4bg_jITm-"
      },
      "source": [
        "Arange = (Awal,Akhir,delta)"
      ]
    },
    {
      "cell_type": "code",
      "metadata": {
        "colab": {
          "base_uri": "https://localhost:8080/"
        },
        "id": "W5CxZ4mpIaFx",
        "outputId": "580ae612-54f6-4375-8073-7b54730f3e16"
      },
      "source": [
        "np.arange(4,5,0.1)"
      ],
      "execution_count": 9,
      "outputs": [
        {
          "output_type": "execute_result",
          "data": {
            "text/plain": [
              "array([4. , 4.1, 4.2, 4.3, 4.4, 4.5, 4.6, 4.7, 4.8, 4.9])"
            ]
          },
          "metadata": {
            "tags": []
          },
          "execution_count": 9
        }
      ]
    },
    {
      "cell_type": "code",
      "metadata": {
        "colab": {
          "base_uri": "https://localhost:8080/"
        },
        "id": "bTgHkXmUIg7L",
        "outputId": "94cc4bc5-1625-4bce-8ba7-950d5d2752c0"
      },
      "source": [
        "np.arange(2,-4,-0.5)"
      ],
      "execution_count": 10,
      "outputs": [
        {
          "output_type": "execute_result",
          "data": {
            "text/plain": [
              "array([ 2. ,  1.5,  1. ,  0.5,  0. , -0.5, -1. , -1.5, -2. , -2.5, -3. ,\n",
              "       -3.5])"
            ]
          },
          "metadata": {
            "tags": []
          },
          "execution_count": 10
        }
      ]
    },
    {
      "cell_type": "code",
      "metadata": {
        "colab": {
          "base_uri": "https://localhost:8080/"
        },
        "id": "nktsy1fkI54z",
        "outputId": "93ed055f-888c-44f3-bb3d-b45e442bc7e0"
      },
      "source": [
        "np.linspace(2,10,4)"
      ],
      "execution_count": 11,
      "outputs": [
        {
          "output_type": "execute_result",
          "data": {
            "text/plain": [
              "array([ 2.        ,  4.66666667,  7.33333333, 10.        ])"
            ]
          },
          "metadata": {
            "tags": []
          },
          "execution_count": 11
        }
      ]
    },
    {
      "cell_type": "code",
      "metadata": {
        "colab": {
          "base_uri": "https://localhost:8080/"
        },
        "id": "NSyeDR0FJc3X",
        "outputId": "bc0c9da0-8e4a-4f22-8a7c-829ebb2ded80"
      },
      "source": [
        "np.linspace(2,-4,4)"
      ],
      "execution_count": 12,
      "outputs": [
        {
          "output_type": "execute_result",
          "data": {
            "text/plain": [
              "array([ 2.,  0., -2., -4.])"
            ]
          },
          "metadata": {
            "tags": []
          },
          "execution_count": 12
        }
      ]
    },
    {
      "cell_type": "code",
      "metadata": {
        "id": "WGdTFhoiJppN"
      },
      "source": [
        "e=np.arange(0,20,2)"
      ],
      "execution_count": 13,
      "outputs": []
    },
    {
      "cell_type": "code",
      "metadata": {
        "colab": {
          "base_uri": "https://localhost:8080/"
        },
        "id": "CGf98_AHKD9M",
        "outputId": "7772b547-eac0-4b7b-ca24-c5cb321b526c"
      },
      "source": [
        "len(e)"
      ],
      "execution_count": 14,
      "outputs": [
        {
          "output_type": "execute_result",
          "data": {
            "text/plain": [
              "10"
            ]
          },
          "metadata": {
            "tags": []
          },
          "execution_count": 14
        }
      ]
    },
    {
      "cell_type": "code",
      "metadata": {
        "colab": {
          "base_uri": "https://localhost:8080/"
        },
        "id": "TrQRn9faKFeo",
        "outputId": "9749bd6a-39c5-47ff-efe1-60bc61ad50e3"
      },
      "source": [
        "e.reshape(5,2)"
      ],
      "execution_count": 15,
      "outputs": [
        {
          "output_type": "execute_result",
          "data": {
            "text/plain": [
              "array([[ 0,  2],\n",
              "       [ 4,  6],\n",
              "       [ 8, 10],\n",
              "       [12, 14],\n",
              "       [16, 18]])"
            ]
          },
          "metadata": {
            "tags": []
          },
          "execution_count": 15
        }
      ]
    },
    {
      "cell_type": "code",
      "metadata": {
        "colab": {
          "base_uri": "https://localhost:8080/"
        },
        "id": "-SQXnZkeKJxM",
        "outputId": "00b9201d-07c3-4bf9-8117-7e2e5b06eb06"
      },
      "source": [
        "e.reshape(2,5)"
      ],
      "execution_count": 16,
      "outputs": [
        {
          "output_type": "execute_result",
          "data": {
            "text/plain": [
              "array([[ 0,  2,  4,  6,  8],\n",
              "       [10, 12, 14, 16, 18]])"
            ]
          },
          "metadata": {
            "tags": []
          },
          "execution_count": 16
        }
      ]
    },
    {
      "cell_type": "code",
      "metadata": {
        "colab": {
          "base_uri": "https://localhost:8080/"
        },
        "id": "cfxPx2XhKM2a",
        "outputId": "5c30e543-bb74-45da-991d-f033e63ae501"
      },
      "source": [
        "print(e)"
      ],
      "execution_count": 17,
      "outputs": [
        {
          "output_type": "stream",
          "text": [
            "[ 0  2  4  6  8 10 12 14 16 18]\n"
          ],
          "name": "stdout"
        }
      ]
    },
    {
      "cell_type": "code",
      "metadata": {
        "id": "HmwbQ4d7KP-5"
      },
      "source": [
        "f=e.reshape(5,2)"
      ],
      "execution_count": 18,
      "outputs": []
    },
    {
      "cell_type": "code",
      "metadata": {
        "colab": {
          "base_uri": "https://localhost:8080/"
        },
        "id": "InZvEqHrKoPy",
        "outputId": "9e27c423-ffc7-4b43-ef8a-cbf703f44fa9"
      },
      "source": [
        "print(f)"
      ],
      "execution_count": 19,
      "outputs": [
        {
          "output_type": "stream",
          "text": [
            "[[ 0  2]\n",
            " [ 4  6]\n",
            " [ 8 10]\n",
            " [12 14]\n",
            " [16 18]]\n"
          ],
          "name": "stdout"
        }
      ]
    },
    {
      "cell_type": "code",
      "metadata": {
        "colab": {
          "base_uri": "https://localhost:8080/"
        },
        "id": "Od42_rDpMhUQ",
        "outputId": "ca9cda94-103e-4e61-f897-e57c5c6a56ac"
      },
      "source": [
        "np.random.random((3,4))"
      ],
      "execution_count": 20,
      "outputs": [
        {
          "output_type": "execute_result",
          "data": {
            "text/plain": [
              "array([[0.99565727, 0.80544912, 0.45793873, 0.02192077],\n",
              "       [0.62642255, 0.04872368, 0.04537584, 0.01710747],\n",
              "       [0.20421878, 0.18480457, 0.77642284, 0.30380733]])"
            ]
          },
          "metadata": {
            "tags": []
          },
          "execution_count": 20
        }
      ]
    },
    {
      "cell_type": "code",
      "metadata": {
        "colab": {
          "base_uri": "https://localhost:8080/"
        },
        "id": "Qdktkp3dMmRV",
        "outputId": "85095714-40a9-4d13-85aa-17c7e3a156e3"
      },
      "source": [
        "np.random.randint(1,20,10)"
      ],
      "execution_count": 21,
      "outputs": [
        {
          "output_type": "execute_result",
          "data": {
            "text/plain": [
              "array([14,  1,  3, 15, 19, 18,  3,  2,  8, 17])"
            ]
          },
          "metadata": {
            "tags": []
          },
          "execution_count": 21
        }
      ]
    },
    {
      "cell_type": "code",
      "metadata": {
        "colab": {
          "base_uri": "https://localhost:8080/"
        },
        "id": "E4nPQ-KJNBSQ",
        "outputId": "e63ba3d3-fbc2-41f6-b00d-4434d1439e89"
      },
      "source": [
        "np.random.randn(3)"
      ],
      "execution_count": 22,
      "outputs": [
        {
          "output_type": "execute_result",
          "data": {
            "text/plain": [
              "array([ 0.55735639, -0.90860589,  0.60723208])"
            ]
          },
          "metadata": {
            "tags": []
          },
          "execution_count": 22
        }
      ]
    },
    {
      "cell_type": "code",
      "metadata": {
        "id": "Fk3jszUyNdxZ"
      },
      "source": [
        ""
      ],
      "execution_count": 22,
      "outputs": []
    },
    {
      "cell_type": "markdown",
      "metadata": {
        "id": "nAL9h3AneiD4"
      },
      "source": [
        "# **GRAFIK FREKUENSI 1800MHz (URBAN, OPEN, DAN SUB URBAN)**"
      ]
    },
    {
      "cell_type": "code",
      "metadata": {
        "id": "7bOjuB7ke9Os"
      },
      "source": [
        "def cos(frek,tipe,ht,hr,d):\r\n",
        "    if frek in range(150,1501):\r\n",
        "        Ca=69.55\r\n",
        "        Cb=26.16\r\n",
        "    elif frek in range(1501,2001):\r\n",
        "        Ca=46.3\r\n",
        "        Cb=33.9\r\n",
        "    \r\n",
        "    if tipe=='urban' :\r\n",
        "        Cm=0\r\n",
        "    elif tipe=='suburban' :\r\n",
        "        Cm= -2*((np.log10((frek/28)**2))-5.4)\r\n",
        "    elif tipe=='open' :\r\n",
        "        Cm= -4.78*(np.log10(frek))+18.33*(np.log10(frek))-40.94\r\n",
        "    else :\r\n",
        "        Cm='tipe salah'\r\n",
        "    \r\n",
        "    ahr = (1.1*np.log10(frek)-0.7)*hr-(1.56*np.log10(frek)-1.8)\r\n",
        "    Lp = Ca+(Cb*np.log10(frek))-(13.83*np.log(ht))-ahr+((44.9-6.55*np.log10(ht))*np.log10(d))-Cm\r\n",
        "    \r\n",
        "    return Lp"
      ],
      "execution_count": 23,
      "outputs": []
    },
    {
      "cell_type": "code",
      "metadata": {
        "id": "nezVGk5OfBn_"
      },
      "source": [
        "f=1800 #MHz\r\n",
        "loc1='urban'\r\n",
        "loc2='open'\r\n",
        "loc3='suburban'\r\n",
        "tower=80 #m\r\n",
        "user=1.5 #m\r\n",
        "dmin=200 #m\r\n",
        "dmax=700 #m\r\n",
        "N=200 #titik\r\n",
        "d=np.random.randint(dmin,dmax,N)"
      ],
      "execution_count": 24,
      "outputs": []
    },
    {
      "cell_type": "code",
      "metadata": {
        "colab": {
          "base_uri": "https://localhost:8080/"
        },
        "id": "5_O5uC7GfRkX",
        "outputId": "895bb7c8-08d6-47e4-8c46-7fe12f8918ca"
      },
      "source": [
        "print(d)"
      ],
      "execution_count": 25,
      "outputs": [
        {
          "output_type": "stream",
          "text": [
            "[270 663 466 245 565 565 567 633 546 252 283 294 474 592 656 625 540 321\n",
            " 376 266 544 629 507 544 648 224 320 596 527 315 488 648 380 272 309 368\n",
            " 359 309 431 224 316 456 538 276 465 292 397 489 375 227 613 634 304 470\n",
            " 680 440 269 492 321 243 409 584 244 639 547 698 603 246 651 587 364 575\n",
            " 419 370 461 217 591 244 233 404 654 206 588 680 533 348 412 579 639 359\n",
            " 692 492 432 593 369 602 495 531 428 591 400 329 651 387 447 470 576 575\n",
            " 601 566 405 689 648 673 638 309 460 461 477 611 350 310 222 470 398 541\n",
            " 263 690 490 389 296 686 551 203 454 331 227 251 398 268 515 335 657 335\n",
            " 253 361 523 683 238 695 685 232 620 475 574 659 637 275 590 562 455 279\n",
            " 393 208 419 273 489 293 431 374 256 507 514 688 486 278 527 329 246 296\n",
            " 546 232 623 539 633 597 269 675 319 465 231 215 334 379 428 208 354 283\n",
            " 349 402]\n"
          ],
          "name": "stdout"
        }
      ]
    },
    {
      "cell_type": "code",
      "metadata": {
        "id": "kB9jNu0OfT7Q"
      },
      "source": [
        "LpUrban=cos(f,loc1,tower,user,d)\r\n",
        "LpOpen=cos(f,loc2,tower,user,d)\r\n",
        "LpSuburban=cos(f,loc3,tower,user,d)"
      ],
      "execution_count": 26,
      "outputs": []
    },
    {
      "cell_type": "code",
      "metadata": {
        "colab": {
          "base_uri": "https://localhost:8080/"
        },
        "id": "a-PkNSClffVO",
        "outputId": "0276a848-2376-4090-d433-cafb9aaf9c7c"
      },
      "source": [
        "print(LpUrban, LpOpen, LpSuburban)"
      ],
      "execution_count": 27,
      "outputs": [
        {
          "output_type": "stream",
          "text": [
            "[173.86803663 186.52245082 181.5557934  172.49936498 184.26936756\n",
            " 184.26936756 184.31914231 185.87019368 183.78752308 172.89618665\n",
            " 174.53044108 175.06758974 181.79556493 184.92692586 186.37293666\n",
            " 185.69103403 183.63187246 176.30522567 178.53293625 173.65779037\n",
            " 183.73583041 185.78089869 182.74362058 183.73583041 186.20009722\n",
            " 171.23706683 176.26127482 185.02178304 183.2886107  176.03943972\n",
            " 182.20558832 186.20009722 178.68199836 173.97199457 175.76854219\n",
            " 178.22999474 177.88121175 175.76854219 180.45597456 171.23706683\n",
            " 176.0840871  181.25022312 183.57960436 174.17763673 181.52553294\n",
            " 174.97143758 179.29848294 182.23442403 178.49542295 171.42446965\n",
            " 185.41794817 185.89242926 175.53874529 181.67618932 186.87908348\n",
            " 180.74708972 173.81576852 182.32057865 176.30522567 172.38390337\n",
            " 179.71795525 184.73527342 172.44175248 186.0030837  183.81329845\n",
            " 187.24710481 185.18626141 172.55674281 186.26516079 184.807449\n",
            " 178.07604525 184.51650088 180.05821908 178.30634309 181.40383683\n",
            " 170.78984712 184.90311142 172.44175248 171.79195756 179.54469061\n",
            " 186.32992522 170.05706436 184.83142558 186.87908348 183.44807925\n",
            " 177.44284933 179.8209002  184.61415283 186.0030837  177.88121175\n",
            " 187.12549625 182.32057865 180.48861939 184.95070011 178.26822064\n",
            " 185.16288176 182.40620954 183.3951234  180.35758368 184.90311142\n",
            " 179.40452789 176.65198134 186.26516079 178.93912065 180.96942503\n",
            " 181.67618932 184.5409774  184.51650088 185.13946324 184.29427692\n",
            " 179.57951445 187.06429599 186.20009722 186.73332658 185.98102224\n",
            " 175.76854219 181.37324781 181.40383683 181.88443739 185.37191467\n",
            " 177.52357297 175.81405511 171.11073201 181.67618932 179.33392003\n",
            " 183.65793397 173.49802037 187.08472564 182.26320082 179.01173029\n",
            " 175.16309002 187.00282867 183.91593088 169.85041658 181.18830549\n",
            " 176.73735273 171.42446965 172.84017768 179.33392003 173.76330575\n",
            " 182.96415327 176.90655882 186.39439323 176.90655882 172.9519738\n",
            " 177.95946883 183.18128647 186.94109196 172.09103965 187.18643176\n",
            " 186.98227982 171.7313715  185.57789095 181.82525143 184.49198175\n",
            " 186.43720858 185.95892618 174.12650695 184.87925665 184.19437411\n",
            " 181.21929832 174.32992186 179.15583628 170.19316433 180.05821908\n",
            " 174.02368724 182.23442403 175.0195957  180.45597456 178.45780947\n",
            " 173.11802175 182.74362058 182.93677476 187.04383667 182.14773921\n",
            " 174.27934286 183.2886107  176.65198134 172.55674281 175.16309002\n",
            " 183.78752308 171.7313715  185.64588579 183.60576266 185.87019368\n",
            " 185.04539786 173.81576852 186.77512553 176.2171864  181.52553294\n",
            " 171.67052372 170.65941807 176.86444747 178.64488045 180.35758368\n",
            " 170.19316433 177.68364557 174.53044108 177.48326897 179.47478358] [170.69909418 183.35350838 178.38685095 169.33042254 181.10042512\n",
            " 181.10042512 181.15019986 182.70125123 180.61858064 169.72724421\n",
            " 171.36149864 171.8986473  178.62662249 181.75798342 183.20399422\n",
            " 182.52209158 180.46293002 173.13628323 175.36399381 170.48884793\n",
            " 180.56688796 182.61195624 179.57467814 180.56688796 183.03115478\n",
            " 168.06812439 173.09233237 181.8528406  180.11966826 172.87049728\n",
            " 179.03664588 183.03115478 175.51305591 170.80305213 172.59959974\n",
            " 175.06105229 174.71226931 172.59959974 177.28703212 168.06812439\n",
            " 172.91514466 178.08128067 180.41066192 171.00869428 178.3565905\n",
            " 171.80249513 176.12954049 179.06548158 175.3264805  168.25552721\n",
            " 182.24900573 182.72348681 172.36980284 178.50724688 183.71014103\n",
            " 177.57814728 170.64682608 179.15163621 173.13628323 169.21496093\n",
            " 176.54901281 181.56633097 169.27281004 182.83414125 180.64435601\n",
            " 184.07816237 182.01731897 169.38780037 183.09621835 181.63850656\n",
            " 174.90710281 181.34755843 176.88927663 175.13740065 178.23489438\n",
            " 167.62090468 181.73416898 169.27281004 168.62301511 176.37574817\n",
            " 183.16098277 166.88812191 181.66248314 183.71014103 180.2791368\n",
            " 174.27390688 176.65195775 181.44521038 182.83414125 174.71226931\n",
            " 183.95655381 179.15163621 177.31967695 181.78175766 175.0992782\n",
            " 181.99393931 179.23726709 180.22618096 177.18864124 181.73416898\n",
            " 176.23558544 173.48303889 183.09621835 175.77017821 177.80048259\n",
            " 178.50724688 181.37203496 181.34755843 181.97052079 181.12533448\n",
            " 176.41057201 183.89535355 183.03115478 183.56438414 182.81207979\n",
            " 172.59959974 178.20430536 178.23489438 178.71549494 182.20297223\n",
            " 174.35463053 172.64511267 167.94178957 178.50724688 176.16497759\n",
            " 180.48899152 170.32907792 183.91578319 179.09425838 175.84278784\n",
            " 171.99414758 183.83388623 180.74698843 166.68147414 178.01936304\n",
            " 173.56841029 168.25552721 169.67123523 176.16497759 170.59436331\n",
            " 179.79521082 173.73761638 183.22545079 173.73761638 169.78303136\n",
            " 174.79052638 180.01234402 183.77214952 168.92209721 184.01748932\n",
            " 183.81333738 168.56242905 182.4089485  178.65630898 181.3230393\n",
            " 183.26826614 182.78998373 170.95756451 181.71031421 181.02543166\n",
            " 178.05035588 171.16097942 175.98689383 167.02422189 176.88927663\n",
            " 170.8547448  179.06548158 171.85065326 177.28703212 175.28886703\n",
            " 169.9490793  179.57467814 179.76783232 183.87489423 178.97879677\n",
            " 171.11040041 180.11966826 173.48303889 169.38780037 171.99414758\n",
            " 180.61858064 168.56242905 182.47694335 180.43682021 182.70125123\n",
            " 181.87645542 170.64682608 183.60618309 173.04824396 178.3565905\n",
            " 168.50158128 167.49047562 173.69550502 175.47593801 177.18864124\n",
            " 167.02422189 174.51470313 171.36149864 174.31432653 176.30584114] [170.30049452 182.95490872 177.98825129 168.93182288 180.70182546\n",
            " 180.70182546 180.7516002  182.30265157 180.21998098 169.32864454\n",
            " 170.96289898 171.50004764 178.22802283 181.35938376 182.80539456\n",
            " 182.12349192 180.06433036 172.73768357 174.96539415 170.09024827\n",
            " 180.1682883  182.21335658 179.17607848 180.1682883  182.63255512\n",
            " 167.66952473 172.69373271 181.45424093 179.7210686  172.47189761\n",
            " 178.63804621 182.63255512 175.11445625 170.40445247 172.20100008\n",
            " 174.66245263 174.31366965 172.20100008 176.88843246 167.66952473\n",
            " 172.516545   177.68268101 180.01206226 170.61009462 177.95799083\n",
            " 171.40389547 175.73094083 178.66688192 174.92788084 167.85692755\n",
            " 181.85040607 182.32488715 171.97120318 178.10864722 183.31154137\n",
            " 177.17954762 170.24822642 178.75303655 172.73768357 168.81636127\n",
            " 176.15041315 181.16773131 168.87421038 182.43554159 180.24575635\n",
            " 183.67956271 181.61871931 168.98920071 182.69761869 181.2399069\n",
            " 174.50850315 180.94895877 176.49067697 174.73880099 177.83629472\n",
            " 167.22230502 181.33556932 168.87421038 168.22441545 175.97714851\n",
            " 182.76238311 166.48952225 181.26388348 183.31154137 179.88053714\n",
            " 173.87530722 176.25335809 181.04661072 182.43554159 174.31366965\n",
            " 183.55795415 178.75303655 176.92107729 181.383158   174.70067854\n",
            " 181.59533965 178.83866743 179.8275813  176.79004158 181.33556932\n",
            " 175.83698578 173.08443923 182.69761869 175.37157855 177.40188292\n",
            " 178.10864722 180.9734353  180.94895877 181.57192113 180.72673482\n",
            " 176.01197235 183.49675389 182.63255512 183.16578447 182.41348013\n",
            " 172.20100008 177.8057057  177.83629472 178.31689528 181.80437257\n",
            " 173.95603087 172.24651301 167.54318991 178.10864722 175.76637793\n",
            " 180.09039186 169.93047826 183.51718353 178.69565872 175.44418818\n",
            " 171.59554792 183.43528657 180.34838877 166.28287448 177.62076338\n",
            " 173.16981063 167.85692755 169.27263557 175.76637793 170.19576365\n",
            " 179.39661116 173.33901672 182.82685113 173.33901672 169.3844317\n",
            " 174.39192672 179.61374436 183.37354986 168.52349755 183.61888966\n",
            " 183.41473772 168.16382939 182.01034884 178.25770932 180.92443964\n",
            " 182.86966647 182.39138407 170.55896485 181.31171455 180.626832\n",
            " 177.65175622 170.76237975 175.58829417 166.62562223 176.49067697\n",
            " 170.45614514 178.66688192 171.4520536  176.88843246 174.89026737\n",
            " 169.55047964 179.17607848 179.36923265 183.47629457 178.58019711\n",
            " 170.71180075 179.7210686  173.08443923 168.98920071 171.59554792\n",
            " 180.21998098 168.16382939 182.07834369 180.03822055 182.30265157\n",
            " 181.47785576 170.24822642 183.20758343 172.6496443  177.95799083\n",
            " 168.10298162 167.09187596 173.29690536 175.07733835 176.79004158\n",
            " 166.62562223 174.11610347 170.96289898 173.91572687 175.90724148]\n"
          ],
          "name": "stdout"
        }
      ]
    },
    {
      "cell_type": "code",
      "metadata": {
        "colab": {
          "base_uri": "https://localhost:8080/",
          "height": 278
        },
        "id": "NWtlC7PdfuF5",
        "outputId": "898fee7a-3ebb-407b-9ddb-d7453a232eae"
      },
      "source": [
        "plt.figure()\r\n",
        "plt.plot(d,LpUrban)\r\n",
        "plt.plot(d,LpOpen)\r\n",
        "plt.plot(d,LpSuburban)\r\n",
        "plt.xlabel('Jarak (m)')\r\n",
        "plt.ylabel('Path Loss (dB)')\r\n",
        "plt.show()"
      ],
      "execution_count": 28,
      "outputs": [
        {
          "output_type": "display_data",
          "data": {
            "image/png": "[encoded data removed]",
            "text/plain": [
              "<Figure size 432x288 with 1 Axes>"
            ]
          },
          "metadata": {
            "tags": [],
            "needs_background": "light"
          }
        }
      ]
    },
    {
      "cell_type": "code",
      "metadata": {
        "id": "t1MXFWVkf43Z"
      },
      "source": [
        "d_sort=d[np.argsort(d)]\r\n",
        "Urban_sort1=LpUrban[np.argsort(d)]\r\n",
        "Open_sort2=LpOpen[np.argsort(d)]\r\n",
        "Suburban_sort3=LpSuburban[np.argsort(d)]"
      ],
      "execution_count": 29,
      "outputs": []
    },
    {
      "cell_type": "code",
      "metadata": {
        "colab": {
          "base_uri": "https://localhost:8080/",
          "height": 295
        },
        "id": "WnJ4fSEuf99L",
        "outputId": "2bb90f85-4dbc-453a-a119-f2617a8fe936"
      },
      "source": [
        "plt.figure()\r\n",
        "plt.title('FREKUENSI 1800MHz (URBAN, OPEN, SUBURBAN)')\r\n",
        "plt.plot(d_sort,Urban_sort1, label='Urban')\r\n",
        "plt.plot(d_sort,Open_sort2, label=\"Open\")\r\n",
        "plt.plot(d_sort,Suburban_sort3, label=\"Suburban\")\r\n",
        "plt.legend()\r\n",
        "plt.xlabel('Jarak (m)')\r\n",
        "plt.ylabel('Path Loss (dB)')\r\n",
        "plt.show()"
      ],
      "execution_count": 30,
      "outputs": [
        {
          "output_type": "display_data",
          "data": {
            "image/png": "[encoded data removed]",
            "text/plain": [
              "<Figure size 432x288 with 1 Axes>"
            ]
          },
          "metadata": {
            "tags": [],
            "needs_background": "light"
          }
        }
      ]
    },
    {
      "cell_type": "markdown",
      "metadata": {
        "id": "6TrGZpCYQbZl"
      },
      "source": [
        "# **GRAFIK MODEL URBAN (700MHz, 900MHz, dan 1800MHz)**"
      ]
    },
    {
      "cell_type": "code",
      "metadata": {
        "id": "EJUGiqITQfx5"
      },
      "source": [
        "def cos(frek,tipe,ht,hr,d):\n",
        "    if frek in range(150,1501):\n",
        "        Ca=69.55\n",
        "        Cb=26.16\n",
        "    elif frek in range(1501,2001):\n",
        "        Ca=46.3\n",
        "        Cb=33.9\n",
        "    \n",
        "    if tipe=='urban' :\n",
        "        Cm=0\n",
        "    elif tipe=='suburban' :\n",
        "        Cm= -2*((np.log10((frek/28)**2))-5.4)\n",
        "    elif tipe=='open' :\n",
        "        Cm= -4.78*(np.log10(frek))+18.33*(np.log10(frek))-40.94\n",
        "    else :\n",
        "        Cm='tipe salah'\n",
        "    \n",
        "    ahr = (1.1*np.log10(frek)-0.7)*hr-(1.56*np.log10(frek)-1.8)\n",
        "    Lp = Ca+(Cb*np.log10(frek))-(13.83*np.log(ht))-ahr+((44.9-6.55*np.log10(ht))*np.log10(d))-Cm\n",
        "    \n",
        "    return Lp"
      ],
      "execution_count": 31,
      "outputs": []
    },
    {
      "cell_type": "code",
      "metadata": {
        "id": "53d-Ye-LQlXh"
      },
      "source": [
        "f1=700 #MHz\n",
        "f2=900 #MHz\n",
        "f3=1800 #MHz\n",
        "loc='urban'\n",
        "tower=80 #m\n",
        "user=1.5 #m\n",
        "dmin=200 #m\n",
        "dmax=700 #m\n",
        "N=200 #titik\n",
        "d=np.random.randint(dmin,dmax,N)"
      ],
      "execution_count": 32,
      "outputs": []
    },
    {
      "cell_type": "code",
      "metadata": {
        "colab": {
          "base_uri": "https://localhost:8080/"
        },
        "id": "qhdPl7JETiqL",
        "outputId": "d20aa86a-dc5e-449f-d895-d47efbef6e9a"
      },
      "source": [
        "print(d)"
      ],
      "execution_count": 33,
      "outputs": [
        {
          "output_type": "stream",
          "text": [
            "[586 445 509 649 295 619 545 336 486 202 597 299 645 245 247 346 630 373\n",
            " 410 411 476 609 622 571 208 635 656 285 432 245 290 240 221 661 461 396\n",
            " 333 573 356 241 475 241 558 553 606 327 230 640 354 614 204 215 534 645\n",
            " 352 213 392 597 238 577 506 399 270 455 595 393 293 563 698 432 280 476\n",
            " 641 621 208 294 253 329 285 411 289 335 236 267 351 698 458 371 259 323\n",
            " 434 678 620 616 304 688 411 244 375 567 506 228 316 490 681 594 329 559\n",
            " 609 252 653 342 621 578 572 492 352 414 219 672 435 275 614 609 343 466\n",
            " 275 677 353 356 412 430 534 258 226 205 216 615 570 562 451 332 246 615\n",
            " 537 213 465 326 446 230 598 544 297 406 488 504 680 314 441 217 231 531\n",
            " 210 647 585 486 357 640 304 270 480 226 472 408 350 360 358 394 272 412\n",
            " 634 317 315 653 576 627 202 380 220 260 555 278 462 232 467 521 308 428\n",
            " 696 456]\n"
          ],
          "name": "stdout"
        }
      ]
    },
    {
      "cell_type": "code",
      "metadata": {
        "id": "IgW6t5oSRMBQ"
      },
      "source": [
        "LpUrban700=cos(f1,loc,tower,user,d)\r\n",
        "LpUrban900=cos(f2,loc,tower,user,d)\r\n",
        "LpUrban1800=cos(f3,loc,tower,user,d)"
      ],
      "execution_count": 34,
      "outputs": []
    },
    {
      "cell_type": "code",
      "metadata": {
        "id": "rIFJSsdSTn-6",
        "colab": {
          "base_uri": "https://localhost:8080/"
        },
        "outputId": "9e93cdd0-defa-4da6-cce8-be445d900a55"
      },
      "source": [
        "print(LpUrban700, LpUrban900, LpUrban1800)"
      ],
      "execution_count": 35,
      "outputs": [
        {
          "output_type": "stream",
          "text": [
            "[172.14437405 168.26720045 170.16002079 173.58276099 162.47636332\n",
            " 172.91609537 171.12264296 164.30948716 169.50868172 157.14179728\n",
            " 172.40634037 162.66607983 173.49567424 159.86030749 159.97483038\n",
            " 164.72260292 173.16421806 165.7810378  167.1132964  167.14761125\n",
            " 169.215818   172.68667275 172.9841998  171.77910974 157.55410684\n",
            " 173.2755723  173.73387917 161.99058285 167.8495619  159.86030749\n",
            " 162.23556707 159.56985931 158.40807966 173.84083669 168.76477933\n",
            " 166.62389897 164.18315235 171.82836237 165.12394737 159.62843003\n",
            " 169.18619393 159.62843003 171.4547002  171.32791053 172.61711095\n",
            " 163.92703188 158.97035447 173.38605316 165.04458808 172.80185113\n",
            " 157.28057907 158.02036057 170.8354252  173.49567424 164.96477916\n",
            " 157.88871253 166.48089026 172.40634037 159.45198216 171.92635398\n",
            " 170.07675215 166.73021071 161.22897913 168.58024083 172.35907107\n",
            " 166.51677878 162.38053821 171.58035882 174.60804732 167.8495619\n",
            " 161.74126241 169.215818   173.40804573 172.96153489 157.55410684\n",
            " 162.42853225 160.31291631 164.01292384 161.99058285 167.14761125\n",
            " 162.1869099  164.26750133 159.33311025 161.07158937 164.92470448\n",
            " 174.60804732 168.67281227 165.70530516 160.64307761 163.75366062\n",
            " 167.91462547 174.19853483 172.93883345 172.84766008 162.89968779\n",
            " 174.40477918 167.14761125 159.80269499 165.85636545 171.68008481\n",
            " 170.07675215 158.84732978 163.44502961 169.62414333 174.26072582\n",
            " 172.3353768  164.01292384 171.47992176 172.68667275 160.25712916\n",
            " 173.66931265 164.55880761 172.96153489 171.95074574 171.80375758\n",
            " 169.68152116 164.96477916 167.25005706 158.28002207 174.073323\n",
            " 167.9470449  161.48744946 172.80185113 172.68667275 164.59993534\n",
            " 168.9167359  161.48744946 174.17774333 165.00474014 165.12394737\n",
            " 167.1818427  167.78419641 170.8354252  160.58858533 158.72322116\n",
            " 157.34946056 158.08572606 172.82477423 171.75441869 171.55531661\n",
            " 168.45585823 164.14078769 159.91768532 172.82477423 170.91433991\n",
            " 157.88871253 168.88647544 163.8838887  168.2988194  158.97035447\n",
            " 172.42991566 171.09677291 162.57154096 166.97519492 169.56653082\n",
            " 170.02096499 174.24002598 163.35559288 168.14001008 158.15078963\n",
            " 159.03146623 170.75606591 157.6889044  173.53928492 172.12031556\n",
            " 169.50868172 165.16345999 173.38605316 162.89968779 161.22897913\n",
            " 169.33369515 158.72322116 169.09694609 167.0444149  164.88451548\n",
            " 165.28133714 165.20286208 166.5525761  161.33293708 167.1818427\n",
            " 173.25337176 163.48953593 163.40038223 173.66931265 171.90191991\n",
            " 173.09698053 157.14179728 166.04294086 158.34419639 160.69735991\n",
            " 171.37876343 161.64028536 168.79530207 159.092314   168.94693149\n",
            " 170.48825865 163.08382424 167.71852619 174.56762767 168.61116562] [174.98977036 171.11259676 173.00541711 176.42815731 165.32175964\n",
            " 175.76149169 173.96803928 167.15488348 172.35407804 159.9871936\n",
            " 175.25173668 165.51147614 176.34107056 162.70570381 162.8202267\n",
            " 167.56799924 176.00961438 168.62643412 169.95869272 169.99300756\n",
            " 172.06121432 175.53206907 175.82959612 174.62450606 160.39950315\n",
            " 176.12096862 176.57927549 164.83597917 170.69495822 162.70570381\n",
            " 165.08096339 162.41525563 161.25347598 176.686233   171.61017565\n",
            " 169.46929529 167.02854867 174.67375868 167.96934369 162.47382635\n",
            " 172.03159025 162.47382635 174.30009652 174.17330685 175.46250726\n",
            " 166.7724282  161.81575079 176.23144948 167.8899844  175.64724745\n",
            " 160.12597538 160.86575689 173.68082152 176.34107056 167.81017547\n",
            " 160.73410885 169.32628658 175.25173668 162.29737848 174.7717503\n",
            " 172.92214846 169.57560702 164.07437545 171.42563715 175.20446739\n",
            " 169.3621751  165.22593453 174.42575514 177.45344364 170.69495822\n",
            " 164.58665872 172.06121432 176.25344205 175.80693121 160.39950315\n",
            " 165.27392857 163.15831263 166.85832016 164.83597917 169.99300756\n",
            " 165.03230622 167.11289765 162.17850657 163.91698568 167.7701008\n",
            " 177.45344364 171.51820859 168.55070148 163.48847393 166.59905694\n",
            " 170.76002179 177.04393115 175.78422977 175.6930564  165.74508411\n",
            " 177.2501755  169.99300756 162.6480913  168.70176177 174.52548113\n",
            " 172.92214846 161.6927261  166.29042593 172.46953965 177.10612214\n",
            " 175.18077312 166.85832016 174.32531808 175.53206907 163.10252547\n",
            " 176.51470897 167.40420393 175.80693121 174.79614206 174.6491539\n",
            " 172.52691748 167.81017547 170.09545338 161.12541839 176.91871932\n",
            " 170.79244122 164.33284578 175.64724745 175.53206907 167.44533166\n",
            " 171.76213222 164.33284578 177.02313965 167.85013646 167.96934369\n",
            " 170.02723902 170.62959273 173.68082152 163.43398165 161.56861748\n",
            " 160.19485688 160.93112238 175.67017055 174.59981501 174.40071293\n",
            " 171.30125455 166.98618401 162.76308164 175.67017055 173.75973622\n",
            " 160.73410885 171.73187176 166.72928502 171.14421572 161.81575079\n",
            " 175.27531198 173.94216923 165.41693728 169.82059124 172.41192714\n",
            " 172.86636131 177.0854223  166.2009892  170.9854064  160.99618595\n",
            " 161.87686255 173.60146223 160.53430071 176.38468123 174.96571188\n",
            " 172.35407804 168.00885631 176.23144948 165.74508411 164.07437545\n",
            " 172.17909147 161.56861748 171.94234241 169.88981122 167.72991179\n",
            " 168.12673346 168.0482584  169.39797242 164.17833339 170.02723902\n",
            " 176.09876808 166.33493224 166.24577854 176.51470897 174.74731623\n",
            " 175.94237684 159.9871936  168.88833718 161.18959271 163.54275622\n",
            " 174.22415975 164.48568168 171.64069839 161.93771032 171.79232781\n",
            " 173.33365497 165.92922056 170.5639225  177.41302399 171.45656194] [184.78343154 180.90625794 182.79907828 186.22181849 175.11542082\n",
            " 185.55515287 183.76170046 176.94854466 182.14773921 169.78085477\n",
            " 185.04539786 175.30513732 186.13473173 172.49936498 172.61388787\n",
            " 177.36166041 185.80327556 178.42009529 179.75235389 179.78666874\n",
            " 181.85487549 185.32573025 185.62325729 184.41816723 170.19316433\n",
            " 185.91462979 186.37293666 174.62964035 180.48861939 172.49936498\n",
            " 174.87462457 172.20891681 171.04713715 186.47989418 181.40383683\n",
            " 179.26295647 176.82220984 184.46741986 177.76300487 172.26748753\n",
            " 181.82525143 172.26748753 184.0937577  183.96696802 185.25616844\n",
            " 176.56608938 171.60941197 186.02511066 177.68364557 185.44090863\n",
            " 169.91963656 170.65941807 183.4744827  186.13473173 177.60383665\n",
            " 170.52777003 179.11994775 185.04539786 172.09103965 184.56541147\n",
            " 182.71580964 179.3692682  173.86803663 181.21929832 184.99812856\n",
            " 179.15583628 175.0195957  184.21941631 187.24710481 180.48861939\n",
            " 174.3803199  181.85487549 186.04710322 185.60059238 170.19316433\n",
            " 175.06758974 172.9519738  176.65198134 174.62964035 179.78666874\n",
            " 174.82596739 176.90655882 171.97216775 173.71064686 177.56376198\n",
            " 187.24710481 181.31186977 178.34436265 173.28213511 176.39271811\n",
            " 180.55368296 186.83759232 185.57789095 185.48671757 175.53874529\n",
            " 187.04383667 179.78666874 172.44175248 178.49542295 184.31914231\n",
            " 182.71580964 171.48638728 176.0840871  182.26320082 186.89978332\n",
            " 184.9744343  176.65198134 184.11897926 185.32573025 172.89618665\n",
            " 186.30837014 177.19786511 185.60059238 184.58980323 184.44281507\n",
            " 182.32057865 177.60383665 179.88911456 170.91907957 186.7123805\n",
            " 180.5861024  174.12650695 185.44090863 185.32573025 177.23899284\n",
            " 181.5557934  174.12650695 186.81680082 177.64379763 177.76300487\n",
            " 179.8209002  180.42325391 183.4744827  173.22764283 171.36227866\n",
            " 169.98851806 170.72478356 185.46383172 184.39347619 184.19437411\n",
            " 181.09491573 176.77984519 172.55674281 185.46383172 183.5533974\n",
            " 170.52777003 181.52553294 176.5229462  180.93787689 171.60941197\n",
            " 185.06897316 183.73583041 175.21059846 179.61425242 182.20558832\n",
            " 182.66002249 186.87908348 175.99465037 180.77906757 170.78984712\n",
            " 171.67052372 183.3951234  170.32796189 186.17834241 184.75937306\n",
            " 182.14773921 177.80251748 186.02511066 175.53874529 173.86803663\n",
            " 181.97275265 171.36227866 181.73600358 179.6834724  177.52357297\n",
            " 177.92039464 177.84191957 179.19163359 173.97199457 179.8209002\n",
            " 185.89242926 176.12859342 176.03943972 186.30837014 184.5409774\n",
            " 185.73603802 169.78085477 178.68199836 170.98325388 173.3364174\n",
            " 184.01782092 174.27934286 181.43435956 171.7313715  181.58598899\n",
            " 183.12731614 175.72288173 180.35758368 187.20668516 181.25022312]\n"
          ],
          "name": "stdout"
        }
      ]
    },
    {
      "cell_type": "code",
      "metadata": {
        "colab": {
          "base_uri": "https://localhost:8080/",
          "height": 278
        },
        "id": "o4qflQDdRXSo",
        "outputId": "edef7287-77e2-4595-bf5e-aab48d2fe2c6"
      },
      "source": [
        "plt.figure()\n",
        "plt.plot(d,LpUrban700)\n",
        "plt.plot(d,LpUrban900)\n",
        "plt.plot(d,LpUrban1800)\n",
        "plt.xlabel('Jarak (m)')\n",
        "plt.ylabel('Path Loss (dB)')\n",
        "plt.show()"
      ],
      "execution_count": 36,
      "outputs": [
        {
          "output_type": "display_data",
          "data": {
            "image/png": "[encoded data removed]",
            "text/plain": [
              "<Figure size 432x288 with 1 Axes>"
            ]
          },
          "metadata": {
            "tags": [],
            "needs_background": "light"
          }
        }
      ]
    },
    {
      "cell_type": "code",
      "metadata": {
        "id": "MbvWh9qIRkKJ"
      },
      "source": [
        "d_sort=d[np.argsort(d)]\n",
        "Urban_sort1=LpUrban700[np.argsort(d)]\n",
        "Urban_sort2=LpUrban900[np.argsort(d)]\n",
        "Urban_sort3=LpUrban1800[np.argsort(d)]"
      ],
      "execution_count": 37,
      "outputs": []
    },
    {
      "cell_type": "code",
      "metadata": {
        "colab": {
          "base_uri": "https://localhost:8080/",
          "height": 295
        },
        "id": "79YaOB0uSBn6",
        "outputId": "7c56cb30-706f-4485-d436-d68d8576cbe4"
      },
      "source": [
        "plt.figure()\n",
        "plt.plot(d_sort,Urban_sort1, label='700MHz')\n",
        "plt.plot(d_sort,Urban_sort2, label='900MHz')\n",
        "plt.plot(d_sort,Urban_sort3, label='1800MHz')\n",
        "plt.legend()\n",
        "plt.title('MODEL URBAN (700MHz, 900MHz, 1800MHz)')\n",
        "plt.xlabel('Jarak (m)')\n",
        "plt.ylabel('Path Loss (dB)')\n",
        "plt.show()"
      ],
      "execution_count": 38,
      "outputs": [
        {
          "output_type": "display_data",
          "data": {
            "image/png": "[encoded data removed]",
            "text/plain": [
              "<Figure size 432x288 with 1 Axes>"
            ]
          },
          "metadata": {
            "tags": [],
            "needs_background": "light"
          }
        }
      ]
    },
    {
      "cell_type": "code",
      "metadata": {
        "id": "Bslo_hoFSFZD"
      },
      "source": [
        ""
      ],
      "execution_count": 38,
      "outputs": []
    }
  ]
}