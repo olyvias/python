{
  "nbformat": 4,
  "nbformat_minor": 0,
  "metadata": {
    "colab": {
      "name": "Untitled0.ipynb",
      "provenance": [],
      "collapsed_sections": [],
      "mount_file_id": "1MHU6MvUDIsksNAHmsaYsA4Ef6eAoLZUI",
      "authorship_tag": "ABX9TyMrGEdy2fI6WRUCHMfI8kSH",
      "include_colab_link": true
    },
    "kernelspec": {
      "name": "python3",
      "display_name": "Python 3"
    }
  },
  "cells": [
    {
      "cell_type": "markdown",
      "metadata": {
        "id": "view-in-github",
        "colab_type": "text"
      },
      "source": [
        "<a href=\"https://colab.research.google.com/github/olyvias/python/blob/main/Pyhon%20-%20Tugas%2010.ipynb\" target=\"_parent\"><img src=\"https://colab.research.google.com/assets/colab-badge.svg\" alt=\"Open In Colab\"/></a>"
      ]
    },
    {
      "cell_type": "code",
      "metadata": {
        "id": "_dlGgodaI6i3",
        "colab": {
          "base_uri": "https://localhost:8080/"
        },
        "outputId": "924a0a64-fa62-4b2f-d5db-bafbba5b1511"
      },
      "source": [
        "cd /content/drive/MyDrive/Colab Notebooks\n"
      ],
      "execution_count": 8,
      "outputs": [
        {
          "output_type": "stream",
          "text": [
            "/content/drive/MyDrive/Colab Notebooks\n"
          ],
          "name": "stdout"
        }
      ]
    },
    {
      "cell_type": "code",
      "metadata": {
        "colab": {
          "base_uri": "https://localhost:8080/"
        },
        "id": "FqlLTj2YJ_iy",
        "outputId": "6fd5f0c1-5a11-4b72-9052-00b85c21e6c2"
      },
      "source": [
        "ls"
      ],
      "execution_count": 9,
      "outputs": [
        {
          "output_type": "stream",
          "text": [
            "\u001b[0m\u001b[01;34m'PYTHON WEEK 10'\u001b[0m/   Untitled0.ipynb\n"
          ],
          "name": "stdout"
        }
      ]
    },
    {
      "cell_type": "code",
      "metadata": {
        "id": "b02atL04KB9u"
      },
      "source": [
        "# import the necessary packages\n",
        "from keras.models import Sequential\n",
        "from keras.layers.convolutional import Conv2D\n",
        "from keras.layers.convolutional import MaxPooling2D\n",
        "from keras.layers.core import Activation\n",
        "from keras.layers.core import Flatten\n",
        "from keras.layers.core import Dense\n",
        "from keras.optimizers import Adam\n",
        "from sklearn.preprocessing import LabelBinarizer\n",
        "from sklearn.model_selection import train_test_split\n",
        "from sklearn.metrics import classification_report\n",
        "from PIL import Image\n",
        "from imutils import paths\n",
        "import numpy as np\n",
        "import os"
      ],
      "execution_count": 10,
      "outputs": []
    },
    {
      "cell_type": "code",
      "metadata": {
        "colab": {
          "base_uri": "https://localhost:8080/"
        },
        "id": "LIcc89VALnlN",
        "outputId": "c6b1cbe0-cce6-48e8-f805-03997776c493"
      },
      "source": [
        "# grab all image paths in the input dataset directory, then initialize\n",
        "# our list of images and corresponding class labels\n",
        "print(\"[INFO] loading images...\")\n",
        "imagePaths = paths.list_images(\"PYTHON WEEK 10\")\n",
        "data = []\n",
        "labels = []"
      ],
      "execution_count": 11,
      "outputs": [
        {
          "output_type": "stream",
          "text": [
            "[INFO] loading images...\n"
          ],
          "name": "stdout"
        }
      ]
    },
    {
      "cell_type": "code",
      "metadata": {
        "id": "l6S7hCCfL067"
      },
      "source": [
        "# loop over our input images\n",
        "for imagePath in imagePaths:\n",
        "\t# load the input image from disk, resize it to 32x32 pixels, scale\n",
        "\t# the pixel intensities to the range [0, 1], and then update our\n",
        "\t# images list\n",
        "  image = Image.open(imagePath)\n",
        "  image = np.array(image.resize((32, 32))) / 255.0\n",
        "  data.append(image)\n",
        "\n",
        "\t# extract the class label from the file path and update the\n",
        "\t# labels list\n",
        "  label = imagePath.split(os.path.sep)[-2]\n",
        "  labels.append(label)"
      ],
      "execution_count": 12,
      "outputs": []
    },
    {
      "cell_type": "code",
      "metadata": {
        "colab": {
          "base_uri": "https://localhost:8080/"
        },
        "id": "wjbRrkg1MBbA",
        "outputId": "b5c342a1-e8ae-4608-de95-8c1925090908"
      },
      "source": [
        "print(labels)"
      ],
      "execution_count": 13,
      "outputs": [
        {
          "output_type": "stream",
          "text": [
            "['highway', 'highway', 'highway', 'highway', 'highway', 'highway', 'highway', 'highway', 'highway', 'highway', 'highway', 'highway', 'highway', 'highway', 'highway', 'highway', 'highway', 'highway', 'highway', 'highway', 'highway', 'highway', 'highway', 'highway', 'highway', 'highway', 'highway', 'highway', 'highway', 'highway', 'highway', 'highway', 'highway', 'highway', 'highway', 'highway', 'highway', 'highway', 'highway', 'highway', 'highway', 'highway', 'highway', 'highway', 'highway', 'highway', 'highway', 'highway', 'highway', 'highway', 'highway', 'highway', 'highway', 'highway', 'highway', 'highway', 'highway', 'highway', 'highway', 'highway', 'highway', 'highway', 'highway', 'highway', 'highway', 'highway', 'highway', 'highway', 'highway', 'highway', 'highway', 'highway', 'highway', 'highway', 'highway', 'highway', 'highway', 'highway', 'highway', 'highway', 'highway', 'highway', 'highway', 'highway', 'highway', 'highway', 'highway', 'highway', 'highway', 'highway', 'highway', 'highway', 'highway', 'highway', 'highway', 'highway', 'highway', 'highway', 'highway', 'highway', 'highway', 'highway', 'highway', 'highway', 'highway', 'highway', 'highway', 'highway', 'highway', 'highway', 'highway', 'highway', 'highway', 'highway', 'highway', 'highway', 'highway', 'highway', 'highway', 'highway', 'highway', 'highway', 'highway', 'highway', 'highway', 'highway', 'highway', 'highway', 'highway', 'highway', 'highway', 'highway', 'highway', 'highway', 'highway', 'highway', 'highway', 'highway', 'highway', 'highway', 'highway', 'highway', 'highway', 'highway', 'highway', 'highway', 'highway', 'highway', 'highway', 'highway', 'highway', 'highway', 'highway', 'highway', 'highway', 'highway', 'highway', 'highway', 'highway', 'highway', 'highway', 'highway', 'highway', 'highway', 'highway', 'highway', 'highway', 'highway', 'highway', 'highway', 'highway', 'highway', 'highway', 'highway', 'highway', 'highway', 'highway', 'highway', 'highway', 'highway', 'highway', 'highway', 'highway', 'highway', 'highway', 'highway', 'highway', 'highway', 'highway', 'highway', 'highway', 'highway', 'highway', 'highway', 'highway', 'highway', 'highway', 'highway', 'highway', 'highway', 'highway', 'highway', 'highway', 'highway', 'highway', 'highway', 'highway', 'highway', 'highway', 'highway', 'highway', 'highway', 'highway', 'highway', 'highway', 'highway', 'highway', 'highway', 'highway', 'highway', 'highway', 'highway', 'highway', 'highway', 'highway', 'highway', 'highway', 'highway', 'highway', 'highway', 'highway', 'highway', 'highway', 'highway', 'highway', 'highway', 'highway', 'highway', 'highway', 'highway', 'highway', 'highway', 'highway', 'highway', 'highway', 'highway', 'highway', 'highway', 'highway', 'highway', 'highway', 'highway', 'highway', 'highway', 'highway', 'highway', 'highway', 'highway', 'highway', 'highway', 'coast', 'coast', 'coast', 'coast', 'coast', 'coast', 'coast', 'coast', 'coast', 'coast', 'coast', 'coast', 'coast', 'coast', 'coast', 'coast', 'coast', 'coast', 'coast', 'coast', 'coast', 'coast', 'coast', 'coast', 'coast', 'coast', 'coast', 'coast', 'coast', 'coast', 'coast', 'coast', 'coast', 'coast', 'coast', 'coast', 'coast', 'coast', 'coast', 'coast', 'coast', 'coast', 'coast', 'coast', 'coast', 'coast', 'coast', 'coast', 'coast', 'coast', 'coast', 'coast', 'coast', 'coast', 'coast', 'coast', 'coast', 'coast', 'coast', 'coast', 'coast', 'coast', 'coast', 'coast', 'coast', 'coast', 'coast', 'coast', 'coast', 'coast', 'coast', 'coast', 'coast', 'coast', 'coast', 'coast', 'coast', 'coast', 'coast', 'coast', 'coast', 'coast', 'coast', 'coast', 'coast', 'coast', 'coast', 'coast', 'coast', 'coast', 'coast', 'coast', 'coast', 'coast', 'coast', 'coast', 'coast', 'coast', 'coast', 'coast', 'coast', 'coast', 'coast', 'coast', 'coast', 'coast', 'coast', 'coast', 'coast', 'coast', 'coast', 'coast', 'coast', 'coast', 'coast', 'coast', 'coast', 'coast', 'coast', 'coast', 'coast', 'coast', 'coast', 'coast', 'coast', 'coast', 'coast', 'coast', 'coast', 'coast', 'coast', 'coast', 'coast', 'coast', 'coast', 'coast', 'coast', 'coast', 'coast', 'coast', 'coast', 'coast', 'coast', 'coast', 'coast', 'coast', 'coast', 'coast', 'coast', 'coast', 'coast', 'coast', 'coast', 'coast', 'coast', 'coast', 'coast', 'coast', 'coast', 'coast', 'coast', 'coast', 'coast', 'coast', 'coast', 'coast', 'coast', 'coast', 'coast', 'coast', 'coast', 'coast', 'coast', 'coast', 'coast', 'coast', 'coast', 'coast', 'coast', 'coast', 'coast', 'coast', 'coast', 'coast', 'coast', 'coast', 'coast', 'coast', 'coast', 'coast', 'coast', 'coast', 'coast', 'coast', 'coast', 'coast', 'coast', 'coast', 'coast', 'coast', 'coast', 'coast', 'coast', 'coast', 'coast', 'coast', 'coast', 'coast', 'coast', 'coast', 'coast', 'coast', 'coast', 'coast', 'coast', 'coast', 'coast', 'coast', 'coast', 'coast', 'coast', 'coast', 'coast', 'coast', 'coast', 'coast', 'coast', 'coast', 'coast', 'coast', 'coast', 'coast', 'coast', 'coast', 'coast', 'coast', 'coast', 'coast', 'coast', 'coast', 'coast', 'coast', 'coast', 'coast', 'coast', 'coast', 'coast', 'coast', 'coast', 'coast', 'coast', 'coast', 'coast', 'coast', 'coast', 'coast', 'coast', 'coast', 'coast', 'coast', 'coast', 'coast', 'coast', 'coast', 'coast', 'coast', 'coast', 'coast', 'coast', 'coast', 'coast', 'coast', 'coast', 'coast', 'coast', 'coast', 'coast', 'coast', 'coast', 'coast', 'coast', 'coast', 'coast', 'coast', 'coast', 'coast', 'coast', 'coast', 'coast', 'coast', 'coast', 'coast', 'coast', 'coast', 'coast', 'coast', 'coast', 'coast', 'coast', 'coast', 'coast', 'coast', 'coast', 'coast', 'coast', 'coast', 'coast', 'coast', 'coast', 'coast', 'coast', 'coast', 'coast', 'coast', 'coast', 'coast', 'coast', 'coast', 'coast', 'coast', 'coast', 'coast', 'coast', 'coast', 'coast', 'coast', 'coast', 'coast', 'coast', 'coast', 'coast', 'coast', 'coast', 'coast', 'coast', 'coast', 'coast', 'coast', 'coast', 'coast', 'coast', 'coast', 'coast', 'coast', 'coast', 'coast', 'coast', 'coast', 'coast', 'coast', 'coast', 'coast', 'coast', 'coast', 'coast', 'coast', 'coast', 'coast', 'coast', 'coast', 'forest', 'forest', 'forest', 'forest', 'forest', 'forest', 'forest', 'forest', 'forest', 'forest', 'forest', 'forest', 'forest', 'forest', 'forest', 'forest', 'forest', 'forest', 'forest', 'forest', 'forest', 'forest', 'forest', 'forest', 'forest', 'forest', 'forest', 'forest', 'forest', 'forest', 'forest', 'forest', 'forest', 'forest', 'forest', 'forest', 'forest', 'forest', 'forest', 'forest', 'forest', 'forest', 'forest', 'forest', 'forest', 'forest', 'forest', 'forest', 'forest', 'forest', 'forest', 'forest', 'forest', 'forest', 'forest', 'forest', 'forest', 'forest', 'forest', 'forest', 'forest', 'forest', 'forest', 'forest', 'forest', 'forest', 'forest', 'forest', 'forest', 'forest', 'forest', 'forest', 'forest', 'forest', 'forest', 'forest', 'forest', 'forest', 'forest', 'forest', 'forest', 'forest', 'forest', 'forest', 'forest', 'forest', 'forest', 'forest', 'forest', 'forest', 'forest', 'forest', 'forest', 'forest', 'forest', 'forest', 'forest', 'forest', 'forest', 'forest', 'forest', 'forest', 'forest', 'forest', 'forest', 'forest', 'forest', 'forest', 'forest', 'forest', 'forest', 'forest', 'forest', 'forest', 'forest', 'forest', 'forest', 'forest', 'forest', 'forest', 'forest', 'forest', 'forest', 'forest', 'forest', 'forest', 'forest', 'forest', 'forest', 'forest', 'forest', 'forest', 'forest', 'forest', 'forest', 'forest', 'forest', 'forest', 'forest', 'forest', 'forest', 'forest', 'forest', 'forest', 'forest', 'forest', 'forest', 'forest', 'forest', 'forest', 'forest', 'forest', 'forest', 'forest', 'forest', 'forest', 'forest', 'forest', 'forest', 'forest', 'forest', 'forest', 'forest', 'forest', 'forest', 'forest', 'forest', 'forest', 'forest', 'forest', 'forest', 'forest', 'forest', 'forest', 'forest', 'forest', 'forest', 'forest', 'forest', 'forest', 'forest', 'forest', 'forest', 'forest', 'forest', 'forest', 'forest', 'forest', 'forest', 'forest', 'forest', 'forest', 'forest', 'forest', 'forest', 'forest', 'forest', 'forest', 'forest', 'forest', 'forest', 'forest', 'forest', 'forest', 'forest', 'forest', 'forest', 'forest', 'forest', 'forest', 'forest', 'forest', 'forest', 'forest', 'forest', 'forest', 'forest', 'forest', 'forest', 'forest', 'forest', 'forest', 'forest', 'forest', 'forest', 'forest', 'forest', 'forest', 'forest', 'forest', 'forest', 'forest', 'forest', 'forest', 'forest', 'forest', 'forest', 'forest', 'forest', 'forest', 'forest', 'forest', 'forest', 'forest', 'forest', 'forest', 'forest', 'forest', 'forest', 'forest', 'forest', 'forest', 'forest', 'forest', 'forest', 'forest', 'forest', 'forest', 'forest', 'forest', 'forest', 'forest', 'forest', 'forest', 'forest', 'forest', 'forest', 'forest', 'forest', 'forest', 'forest', 'forest', 'forest', 'forest', 'forest', 'forest', 'forest', 'forest', 'forest', 'forest', 'forest', 'forest', 'forest', 'forest', 'forest', 'forest', 'forest', 'forest', 'forest', 'forest', 'forest', 'forest', 'forest', 'forest', 'forest', 'forest', 'forest', 'forest', 'forest', 'forest', 'forest', 'forest', 'forest', 'forest', 'forest', 'forest', 'forest', 'forest', 'forest', 'forest', 'forest', 'forest', 'forest', 'forest', 'forest', 'forest', 'forest', 'forest', 'forest', 'forest', 'forest', 'forest', 'forest', 'forest', 'forest', 'forest', 'forest', 'forest']\n"
          ],
          "name": "stdout"
        }
      ]
    },
    {
      "cell_type": "code",
      "metadata": {
        "id": "m3IRmJ7_MMTd"
      },
      "source": [
        "# encode the labels, converting them from strings to integers\n",
        "lb = LabelBinarizer()\n",
        "labels = lb.fit_transform(labels)"
      ],
      "execution_count": 14,
      "outputs": []
    },
    {
      "cell_type": "code",
      "metadata": {
        "colab": {
          "base_uri": "https://localhost:8080/"
        },
        "id": "XLiK4GvYOf4n",
        "outputId": "54724fc2-63df-4efe-f818-7120af57346e"
      },
      "source": [
        "print(labels)"
      ],
      "execution_count": 14,
      "outputs": [
        {
          "output_type": "stream",
          "text": [
            "[[0 0 1]\n",
            " [0 0 1]\n",
            " [0 0 1]\n",
            " ...\n",
            " [0 1 0]\n",
            " [0 1 0]\n",
            " [0 1 0]]\n"
          ],
          "name": "stdout"
        }
      ]
    },
    {
      "cell_type": "code",
      "metadata": {
        "colab": {
          "base_uri": "https://localhost:8080/"
        },
        "id": "VVkvZKqNOjdX",
        "outputId": "a00da1d1-e6a6-4ce9-d316-787ddde551e1"
      },
      "source": [
        "# perform a training and testing split, using 75% of the data for\n",
        "# training and 25% for evaluation\n",
        "(trainX, testX, trainY, testY) = train_test_split(np.array(data),\tnp.array(labels), test_size=0.25)\n",
        "print(trainX.shape)\n",
        "print(testX.shape)"
      ],
      "execution_count": 15,
      "outputs": [
        {
          "output_type": "stream",
          "text": [
            "(711, 32, 32, 3)\n",
            "(237, 32, 32, 3)\n"
          ],
          "name": "stdout"
        }
      ]
    },
    {
      "cell_type": "code",
      "metadata": {
        "id": "VMb0gTEoOm09"
      },
      "source": [
        "from keras.models import Sequential\n",
        "from keras.layers.core import Flatten\n",
        "from keras.layers.core import Dense\n",
        "\n",
        "model = Sequential(\n",
        "    [\n",
        "        Flatten(input_shape=(32*32*3,)),\n",
        "        Dense(32, activation=\"relu\", name=\"layer1\"),\n",
        "        Dense(32, activation=\"relu\", name=\"layer2\"),\n",
        "        Dense(32, activation=\"relu\", name=\"layer3\"),\n",
        "        Dense(32, activation=\"relu\", name=\"layer4\"),\n",
        "        Dense(32, activation=\"relu\", name=\"layer5\"),\n",
        "        Dense(32, activation=\"relu\", name=\"layer6\"),\n",
        "        Dense(3, activation = \"softmax\", name=\"layer7\"),\n",
        "    ]\n",
        ")"
      ],
      "execution_count": 16,
      "outputs": []
    },
    {
      "cell_type": "code",
      "metadata": {
        "colab": {
          "base_uri": "https://localhost:8080/"
        },
        "id": "DzZGGZWJO0iC",
        "outputId": "5fa0b608-507a-45b9-f794-9855efaa39d9"
      },
      "source": [
        "model.summary()"
      ],
      "execution_count": 17,
      "outputs": [
        {
          "output_type": "stream",
          "text": [
            "Model: \"sequential_1\"\n",
            "_________________________________________________________________\n",
            "Layer (type)                 Output Shape              Param #   \n",
            "=================================================================\n",
            "flatten_1 (Flatten)          (None, 3072)              0         \n",
            "_________________________________________________________________\n",
            "layer1 (Dense)               (None, 32)                98336     \n",
            "_________________________________________________________________\n",
            "layer2 (Dense)               (None, 32)                1056      \n",
            "_________________________________________________________________\n",
            "layer3 (Dense)               (None, 32)                1056      \n",
            "_________________________________________________________________\n",
            "layer4 (Dense)               (None, 32)                1056      \n",
            "_________________________________________________________________\n",
            "layer5 (Dense)               (None, 32)                1056      \n",
            "_________________________________________________________________\n",
            "layer6 (Dense)               (None, 32)                1056      \n",
            "_________________________________________________________________\n",
            "layer7 (Dense)               (None, 3)                 99        \n",
            "=================================================================\n",
            "Total params: 103,715\n",
            "Trainable params: 103,715\n",
            "Non-trainable params: 0\n",
            "_________________________________________________________________\n"
          ],
          "name": "stdout"
        }
      ]
    },
    {
      "cell_type": "code",
      "metadata": {
        "colab": {
          "base_uri": "https://localhost:8080/"
        },
        "id": "mIjDCVAGO8zU",
        "outputId": "1ca71c94-8b91-4dd6-d71a-129d3c072384"
      },
      "source": [
        "# train the model using the Adam optimizer\n",
        "print(\"[INFO] training network...\")\n",
        "opt = Adam(lr=1e-3, decay=1e-3 / 50)\n",
        "model.compile(loss=\"categorical_crossentropy\", optimizer=opt,\n",
        "\tmetrics=[\"accuracy\"])\n",
        "H = model.fit(trainX, trainY, validation_data=(testX, testY), epochs=35, batch_size=35,)"
      ],
      "execution_count": 18,
      "outputs": [
        {
          "output_type": "stream",
          "text": [
            "[INFO] training network...\n",
            "Epoch 1/35\n",
            "WARNING:tensorflow:Model was constructed with shape (None, 3072) for input Tensor(\"flatten_1_input:0\", shape=(None, 3072), dtype=float32), but it was called on an input with incompatible shape (None, 32, 32, 3).\n",
            "WARNING:tensorflow:Model was constructed with shape (None, 3072) for input Tensor(\"flatten_1_input:0\", shape=(None, 3072), dtype=float32), but it was called on an input with incompatible shape (None, 32, 32, 3).\n",
            "21/21 [==============================] - ETA: 0s - loss: 1.0450 - accuracy: 0.4205WARNING:tensorflow:Model was constructed with shape (None, 3072) for input Tensor(\"flatten_1_input:0\", shape=(None, 3072), dtype=float32), but it was called on an input with incompatible shape (None, 32, 32, 3).\n",
            "21/21 [==============================] - 0s 12ms/step - loss: 1.0450 - accuracy: 0.4205 - val_loss: 1.0087 - val_accuracy: 0.3924\n",
            "Epoch 2/35\n",
            "21/21 [==============================] - 0s 4ms/step - loss: 0.9167 - accuracy: 0.5457 - val_loss: 0.8688 - val_accuracy: 0.5865\n",
            "Epoch 3/35\n",
            "21/21 [==============================] - 0s 4ms/step - loss: 0.8147 - accuracy: 0.6343 - val_loss: 0.7792 - val_accuracy: 0.6667\n",
            "Epoch 4/35\n",
            "21/21 [==============================] - 0s 4ms/step - loss: 0.7265 - accuracy: 0.6667 - val_loss: 0.7834 - val_accuracy: 0.6540\n",
            "Epoch 5/35\n",
            "21/21 [==============================] - 0s 3ms/step - loss: 0.6892 - accuracy: 0.7145 - val_loss: 0.7792 - val_accuracy: 0.6751\n",
            "Epoch 6/35\n",
            "21/21 [==============================] - 0s 3ms/step - loss: 0.7128 - accuracy: 0.6737 - val_loss: 0.6320 - val_accuracy: 0.7637\n",
            "Epoch 7/35\n",
            "21/21 [==============================] - 0s 4ms/step - loss: 0.6151 - accuracy: 0.7300 - val_loss: 0.6352 - val_accuracy: 0.7637\n",
            "Epoch 8/35\n",
            "21/21 [==============================] - 0s 4ms/step - loss: 0.5594 - accuracy: 0.7707 - val_loss: 0.6619 - val_accuracy: 0.7173\n",
            "Epoch 9/35\n",
            "21/21 [==============================] - 0s 4ms/step - loss: 0.5328 - accuracy: 0.7961 - val_loss: 0.6513 - val_accuracy: 0.7215\n",
            "Epoch 10/35\n",
            "21/21 [==============================] - 0s 3ms/step - loss: 0.4694 - accuracy: 0.8158 - val_loss: 0.5602 - val_accuracy: 0.8101\n",
            "Epoch 11/35\n",
            "21/21 [==============================] - 0s 4ms/step - loss: 0.4586 - accuracy: 0.8270 - val_loss: 0.5607 - val_accuracy: 0.8101\n",
            "Epoch 12/35\n",
            "21/21 [==============================] - 0s 3ms/step - loss: 0.4644 - accuracy: 0.8298 - val_loss: 0.5431 - val_accuracy: 0.8397\n",
            "Epoch 13/35\n",
            "21/21 [==============================] - 0s 3ms/step - loss: 0.4441 - accuracy: 0.8326 - val_loss: 0.8118 - val_accuracy: 0.6920\n",
            "Epoch 14/35\n",
            "21/21 [==============================] - 0s 4ms/step - loss: 0.4882 - accuracy: 0.8186 - val_loss: 0.5768 - val_accuracy: 0.7975\n",
            "Epoch 15/35\n",
            "21/21 [==============================] - 0s 4ms/step - loss: 0.4289 - accuracy: 0.8411 - val_loss: 0.5553 - val_accuracy: 0.8059\n",
            "Epoch 16/35\n",
            "21/21 [==============================] - 0s 4ms/step - loss: 0.4053 - accuracy: 0.8509 - val_loss: 0.5304 - val_accuracy: 0.8397\n",
            "Epoch 17/35\n",
            "21/21 [==============================] - 0s 4ms/step - loss: 0.3788 - accuracy: 0.8551 - val_loss: 0.6086 - val_accuracy: 0.7553\n",
            "Epoch 18/35\n",
            "21/21 [==============================] - 0s 4ms/step - loss: 0.3832 - accuracy: 0.8537 - val_loss: 0.5463 - val_accuracy: 0.8143\n",
            "Epoch 19/35\n",
            "21/21 [==============================] - 0s 4ms/step - loss: 0.3887 - accuracy: 0.8565 - val_loss: 0.5407 - val_accuracy: 0.8017\n",
            "Epoch 20/35\n",
            "21/21 [==============================] - 0s 4ms/step - loss: 0.3437 - accuracy: 0.8861 - val_loss: 0.5766 - val_accuracy: 0.8101\n",
            "Epoch 21/35\n",
            "21/21 [==============================] - 0s 4ms/step - loss: 0.3529 - accuracy: 0.8776 - val_loss: 0.5126 - val_accuracy: 0.8312\n",
            "Epoch 22/35\n",
            "21/21 [==============================] - 0s 4ms/step - loss: 0.3348 - accuracy: 0.8762 - val_loss: 0.5378 - val_accuracy: 0.8186\n",
            "Epoch 23/35\n",
            "21/21 [==============================] - 0s 3ms/step - loss: 0.3072 - accuracy: 0.9015 - val_loss: 0.5462 - val_accuracy: 0.8143\n",
            "Epoch 24/35\n",
            "21/21 [==============================] - 0s 3ms/step - loss: 0.3228 - accuracy: 0.8762 - val_loss: 0.5710 - val_accuracy: 0.8017\n",
            "Epoch 25/35\n",
            "21/21 [==============================] - 0s 4ms/step - loss: 0.3157 - accuracy: 0.8734 - val_loss: 0.6158 - val_accuracy: 0.7764\n",
            "Epoch 26/35\n",
            "21/21 [==============================] - 0s 4ms/step - loss: 0.3277 - accuracy: 0.8748 - val_loss: 0.7412 - val_accuracy: 0.7764\n",
            "Epoch 27/35\n",
            "21/21 [==============================] - 0s 5ms/step - loss: 0.2956 - accuracy: 0.9001 - val_loss: 0.7415 - val_accuracy: 0.6962\n",
            "Epoch 28/35\n",
            "21/21 [==============================] - 0s 4ms/step - loss: 0.4629 - accuracy: 0.8158 - val_loss: 0.6642 - val_accuracy: 0.7975\n",
            "Epoch 29/35\n",
            "21/21 [==============================] - 0s 4ms/step - loss: 0.2865 - accuracy: 0.8945 - val_loss: 0.6183 - val_accuracy: 0.7975\n",
            "Epoch 30/35\n",
            "21/21 [==============================] - 0s 4ms/step - loss: 0.2958 - accuracy: 0.8875 - val_loss: 0.5933 - val_accuracy: 0.8059\n",
            "Epoch 31/35\n",
            "21/21 [==============================] - 0s 4ms/step - loss: 0.4024 - accuracy: 0.8453 - val_loss: 0.5331 - val_accuracy: 0.8143\n",
            "Epoch 32/35\n",
            "21/21 [==============================] - 0s 4ms/step - loss: 0.4983 - accuracy: 0.8101 - val_loss: 0.6881 - val_accuracy: 0.7342\n",
            "Epoch 33/35\n",
            "21/21 [==============================] - 0s 4ms/step - loss: 0.2917 - accuracy: 0.8987 - val_loss: 0.6003 - val_accuracy: 0.7722\n",
            "Epoch 34/35\n",
            "21/21 [==============================] - 0s 4ms/step - loss: 0.2682 - accuracy: 0.9156 - val_loss: 0.6370 - val_accuracy: 0.7975\n",
            "Epoch 35/35\n",
            "21/21 [==============================] - 0s 3ms/step - loss: 0.2541 - accuracy: 0.9030 - val_loss: 0.5228 - val_accuracy: 0.8439\n"
          ],
          "name": "stdout"
        }
      ]
    },
    {
      "cell_type": "code",
      "metadata": {
        "colab": {
          "base_uri": "https://localhost:8080/",
          "height": 590
        },
        "id": "DHXXcjTYPDqm",
        "outputId": "0cdd382d-a654-45bd-8264-d8c42950e44a"
      },
      "source": [
        "import matplotlib.pyplot as plt\n",
        "\n",
        "print(H.history.keys())\n",
        "# summarize history for accuracy\n",
        "plt.plot(H.history['accuracy'])\n",
        "plt.plot(H.history['val_accuracy'])\n",
        "plt.title('model accuracy')\n",
        "plt.ylabel('accuracy')\n",
        "plt.xlabel('epoch')\n",
        "plt.legend(['train', 'test'], loc='upper left')\n",
        "plt.show()\n",
        "# summarize history for loss\n",
        "plt.plot(H.history['loss'])\n",
        "plt.plot(H.history['val_loss'])\n",
        "plt.title('model loss')\n",
        "plt.ylabel('loss')\n",
        "plt.xlabel('epoch')\n",
        "plt.legend(['train', 'test'], loc='upper left')\n",
        "plt.show()"
      ],
      "execution_count": 19,
      "outputs": [
        {
          "output_type": "stream",
          "text": [
            "dict_keys(['loss', 'accuracy', 'val_loss', 'val_accuracy'])\n"
          ],
          "name": "stdout"
        },
        {
          "output_type": "display_data",
          "data": {
            "image/png": "[encoded data removed]",
            "text/plain": [
              "<Figure size 432x288 with 1 Axes>"
            ]
          },
          "metadata": {
            "tags": [],
            "needs_background": "light"
          }
        },
        {
          "output_type": "display_data",
          "data": {
            "image/png": "[encoded data removed]",
            "text/plain": [
              "<Figure size 432x288 with 1 Axes>"
            ]
          },
          "metadata": {
            "tags": [],
            "needs_background": "light"
          }
        }
      ]
    },
    {
      "cell_type": "code",
      "metadata": {
        "colab": {
          "base_uri": "https://localhost:8080/"
        },
        "id": "hpXS69ZbPKIh",
        "outputId": "8c47da44-43c1-4001-8361-d7acbf6d4f53"
      },
      "source": [
        "# evaluate the network\n",
        "print(\"[INFO] evaluating network...\")\n",
        "predictions = model.predict(testX, batch_size=64)\n",
        "print(classification_report(testY.argmax(axis=1),\n",
        "\tpredictions.argmax(axis=1), target_names=lb.classes_))"
      ],
      "execution_count": 20,
      "outputs": [
        {
          "output_type": "stream",
          "text": [
            "[INFO] evaluating network...\n",
            "WARNING:tensorflow:Model was constructed with shape (None, 3072) for input Tensor(\"flatten_1_input:0\", shape=(None, 3072), dtype=float32), but it was called on an input with incompatible shape (None, 32, 32, 3).\n",
            "              precision    recall  f1-score   support\n",
            "\n",
            "       coast       0.85      0.88      0.86        82\n",
            "      forest       0.88      0.83      0.85        95\n",
            "     highway       0.79      0.82      0.80        60\n",
            "\n",
            "    accuracy                           0.84       237\n",
            "   macro avg       0.84      0.84      0.84       237\n",
            "weighted avg       0.85      0.84      0.84       237\n",
            "\n"
          ],
          "name": "stdout"
        }
      ]
    },
    {
      "cell_type": "code",
      "metadata": {
        "id": "VuqJdyTNPPat"
      },
      "source": [
        ""
      ],
      "execution_count": null,
      "outputs": []
    }
  ]
}